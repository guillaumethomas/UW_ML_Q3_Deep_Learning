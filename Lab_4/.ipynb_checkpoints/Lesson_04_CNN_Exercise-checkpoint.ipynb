{
 "cells": [
  {
   "cell_type": "markdown",
   "metadata": {},
   "source": [
    "# CNN\n",
    "\n",
    "\n",
    "- We have an input image of size 32 X 32 and a convolution filter of size 7 X 7 with a stride of 1. What would be the size of the resulting matrix after this convolution operation?\n",
    "- We have an input image of size 32 X 32 and a convolution filter of size 7 X 7 with a stride of 2. What would be the size of the resulting matrix after this convolution operation?\n",
    "- We have an input image of size 32 X 32 and a max_pooling filter of size 2 X 2 with a stride of 2. What would be the size of the resulting matrix after this pooling operation?\n"
   ]
  },
  {
   "cell_type": "markdown",
   "metadata": {},
   "source": [
    "- [Convolutions](https://www.geeksforgeeks.org/introduction-to-convolutions-using-python/)\n",
    "- [Convolve Numpy](https://docs.scipy.org/doc/numpy/reference/generated/numpy.convolve.html)\n",
    "- [Image convolution](http://machinelearninguru.com/computer_vision/basics/convolution/image_convolution_1.html)\n",
    "- [Padding](https://keras.io/layers/convolutional/)\n",
    "- [A Gentle Introduction to Padding and Stride for Convolutional Neural Networks](https://machinelearningmastery.com/padding-and-stride-for-convolutional-neural-networks/)\n",
    "- [A Gentle Introduction to Pooling Layers for Convolutional Neural Networks](https://machinelearningmastery.com/pooling-layers-for-convolutional-neural-networks/)\n",
    "- [Input Layer - Keras](https://keras.io/layers/core/)\n",
    "- [Keras maxpooling2d](https://keras.io/layers/pooling/#maxpooling2d)\n",
    "- [Data Science Exchange InputLayer Keras](https://datascience.stackexchange.com/questions/38921/why-this-sequential-model-is-not-starting)"
   ]
  },
  {
   "cell_type": "markdown",
   "metadata": {},
   "source": [
    "We have an input image of size 32 X 32 and a convolution filter of size 7 X 7 with a stride of 1. What would be the size of the resulting matrix after this convolution operation?"
   ]
  },
  {
   "cell_type": "code",
   "execution_count": 50,
   "metadata": {},
   "outputs": [
    {
     "name": "stdout",
     "output_type": "stream",
     "text": [
      "_________________________________________________________________\n",
      "Layer (type)                 Output Shape              Param #   \n",
      "=================================================================\n",
      "conv2d_13 (Conv2D)           (None, 26, 26, 1)         50        \n",
      "=================================================================\n",
      "Total params: 50\n",
      "Trainable params: 50\n",
      "Non-trainable params: 0\n",
      "_________________________________________________________________\n"
     ]
    }
   ],
   "source": [
    "from keras.models import Sequential\n",
    "from keras.layers import Conv2D\n",
    "\n",
    "model = Sequential()\n",
    "model.add(Conv2D(1, (7,7), strides=(1, 1),  padding='valid', input_shape=(32, 32, 1)))\n",
    "weights = [convolution_filter, np.asarray([0.0])]\n",
    "model.summary()"
   ]
  },
  {
   "cell_type": "markdown",
   "metadata": {},
   "source": [
    "We have an input image of size 32 X 32 and a convolution filter of size 7 X 7 with a stride of 2. What would be the size of the resulting matrix after this convolution operation?"
   ]
  },
  {
   "cell_type": "code",
   "execution_count": 51,
   "metadata": {},
   "outputs": [
    {
     "name": "stdout",
     "output_type": "stream",
     "text": [
      "_________________________________________________________________\n",
      "Layer (type)                 Output Shape              Param #   \n",
      "=================================================================\n",
      "conv2d_14 (Conv2D)           (None, 13, 13, 1)         50        \n",
      "=================================================================\n",
      "Total params: 50\n",
      "Trainable params: 50\n",
      "Non-trainable params: 0\n",
      "_________________________________________________________________\n"
     ]
    }
   ],
   "source": [
    "model = Sequential()\n",
    "model.add(Conv2D(1, (7,7), strides=(2, 2), padding='valid',input_shape=(32, 32, 1)))\n",
    "weights = [convolution_filter, np.asarray([0.0])]\n",
    "model.summary()"
   ]
  },
  {
   "cell_type": "markdown",
   "metadata": {},
   "source": [
    "We have an input image of size 32 X 32 and a max_pooling filter of size 2 X 2 with a stride of 2. What would be the size of the resulting matrix after this pooling operation?"
   ]
  },
  {
   "cell_type": "code",
   "execution_count": 56,
   "metadata": {},
   "outputs": [
    {
     "name": "stdout",
     "output_type": "stream",
     "text": [
      "_________________________________________________________________\n",
      "Layer (type)                 Output Shape              Param #   \n",
      "=================================================================\n",
      "max_pooling2d_7 (MaxPooling2 (None, 16, 16, 1)         0         \n",
      "=================================================================\n",
      "Total params: 0\n",
      "Trainable params: 0\n",
      "Non-trainable params: 0\n",
      "_________________________________________________________________\n"
     ]
    }
   ],
   "source": [
    "from keras.layers import MaxPooling2D\n",
    "from keras.layers import InputLayer\n",
    "model = Sequential()\n",
    "model.add(InputLayer(input_shape=(32,32,1)))\n",
    "model.add(MaxPooling2D(pool_size=(2, 2), strides=(2,2), padding='valid'))\n",
    "model.summary()"
   ]
  },
  {
   "cell_type": "code",
   "execution_count": null,
   "metadata": {},
   "outputs": [],
   "source": []
  }
 ],
 "metadata": {
  "kernelspec": {
   "display_name": "Python 3",
   "language": "python",
   "name": "python3"
  },
  "language_info": {
   "codemirror_mode": {
    "name": "ipython",
    "version": 3
   },
   "file_extension": ".py",
   "mimetype": "text/x-python",
   "name": "python",
   "nbconvert_exporter": "python",
   "pygments_lexer": "ipython3",
   "version": "3.7.3"
  }
 },
 "nbformat": 4,
 "nbformat_minor": 2
}
