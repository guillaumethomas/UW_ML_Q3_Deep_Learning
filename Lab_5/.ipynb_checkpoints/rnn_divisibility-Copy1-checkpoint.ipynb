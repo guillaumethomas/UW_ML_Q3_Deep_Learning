{
 "cells": [
  {
   "cell_type": "markdown",
   "metadata": {
    "nbgrader": {
     "grade": false,
     "locked": true,
     "solution": false
    }
   },
   "source": [
    "# Lesson 5b: Recurrent Neural Networks: Categorization"
   ]
  },
  {
   "cell_type": "markdown",
   "metadata": {
    "nbgrader": {
     "grade": false,
     "locked": true,
     "solution": false
    }
   },
   "source": [
    "Recurrent Neural Networks (RNNs) can be used in many different ways, such as classification, single-step prediction, and the generation of an entire sequence. \n",
    "\n",
    "* **Classification**: the input is a sequence, and the output is a single category - this is the focus of this assignment. (Alternatively, a sequence of categories could be generated, one for each partial sequence as it is processed).\n",
    "\n",
    "* **Prediction**: the input is a sequence, and the output is a prediction for the next element in the sequence. You will explore this in lesson 5b.\n",
    "\n",
    "* **Sequence Generation** (Seq-to-Seq): both the input and the output are entire sequences. For example, RNN-based language translation may take in an input sequence (of characters or word tokens) in English, and generate as output a sequence (of characters or word tokens) in French.\n",
    "\n",
    "RNNs can be used to process inputs that occur naturally in time (such as an audio recording of speech or music represented as a stream of timestamped MIDI messages), but they can also be applied to material that has an order to it, even if it's not necessarly temporal in natures, such as written text (which can be read one character or one word at a time) or even written numbers or math equations (which can be read one digit or symbol at a time, from left to right, for instance.)  This is the problem we investigate today: looking at numbers such as \"1423\" as a sequence of digits ['1', '4', '2', '3'].\n",
    "\n",
    "Our problem comes curtosy of Distinguished Professor Douglas R. Hofstadter of Indiana University, author of books such as _Gödel, Escher, Bach: an Eternal Golden Braid_. Hofstadter writes [private communication, shared with permission)]:\n",
    "\n",
    "---\n",
    "\n",
    "_Lately, I have been musing about the seeming power of deep neural nets.  They learn to recognize members of all sorts of categories, when those members (and non-members) are fed to them as patterns of symbols or of pixels.  So, how about the following challenges involving the natural numbers?_\n",
    "\n",
    "* To recognize the even numbers, expressed in base 3.\n",
    "     (Specifically, 0, 2, 11, 20, 22, 101, 110, 112,...)\n",
    "* To recognize the multiples of 3, expressed in base 10.\n",
    "* To recognize the multiples of 9, expressed in base 10.\n",
    "* To recognize the multiples of 7, expressed in base 10.\n",
    "* To recognize the multiples of 29, expressed in base 10.\n",
    "\n",
    "_(I suppose that if a net can learn any particular one of the above list, it can learn all of them.  Just a guess...)_\n",
    "\n",
    " _Moving right along, how about the following somewhat harder challenges?_\n",
    "\n",
    "* To recognize the correct integer additions, expressed either in base 2 or in base 10.  (For example, the string “12+29=41”.)\n",
    "* To recognize the correct integer multiplications, expressed either in base 2 or in base 10.  (For example, the string “12x29=348”.)\n",
    "\n",
    "_(The latter of this pair seems significantly harder than the former.)_\n",
    "     \n",
    "_And then, of course, the canonical challenge of this sort:_\n",
    "\n",
    "* To recognize the prime numbers, expressed either in base 2 or in base 10.\n",
    "\n",
    "_Each of the above challenges involves a number-theoretical category that can easily be described in purely syntactic terms (i.e., as a rule-based pattern of symbols).  It would be trivial to generate millions of examples of such categories mechanically, and then you just feed them to the neural net.  You can also feed the network lots of counterexamples -- marking them, of course, as non-members of the category.  Can a deep neural network learn any of these categories?  All of them?  Some of them?_\n",
    "\n",
    "---\n",
    "\n",
    "In this assignment, you will use an RNN to try to solve the divisibility-by-3 problem (the rest are challenges you might want to try in your free time!): \n",
    "\n",
    "* **\"To recognize the multiples of 3, expressed in base 10.\"**  Specifically, you must:\n",
    "    * Design an RNN that takes a sequence of digits as input. \n",
    "    * Represent digits in base 10 by using a categorical, one-hot encoding, with one node for each digit from 0 through 9.\n",
    "    * Train the RNN to categorize a number as True if it is evenly divisible by 3, False otherwise.\n",
    "    * Test the RNN on a set of previously-unseen numbers, including numbers that are 4 digits long, such as 2225 and 3333.\n",
    "    * Acheive an accuracy of at least 95% on the test set (report the accuracy in the cell marked below).\n",
    "    * Answer the questions at the end of this notebook.\n",
    "\n",
    "\n"
   ]
  },
  {
   "cell_type": "markdown",
   "metadata": {},
   "source": [
    "- [One hot encoding](https://machinelearningmastery.com/how-to-one-hot-encode-sequence-data-in-python/) \n",
    "- [Sequence Prediction](https://machinelearningmastery.com/sequence-prediction-problems-learning-lstm-recurrent-neural-networks/)\n",
    "- [LSTM Tutorial Keras](https://adventuresinmachinelearning.com/keras-lstm-tutorial/)"
   ]
  },
  {
   "cell_type": "markdown",
   "metadata": {
    "nbgrader": {
     "grade": false,
     "locked": true,
     "solution": false
    }
   },
   "source": [
    "# Setup\n",
    "## Imports"
   ]
  },
  {
   "cell_type": "markdown",
   "metadata": {},
   "source": [
    "- [Keras - Guide to the sequential model](https://keras.io/getting-started/sequential-model-guide/)\n",
    "- [Input](https://keras.io/layers/core/)\n",
    "- [GRU](https://keras.io/layers/recurrent/)\n",
    "- [LSTM](https://keras.io/layers/recurrent/)\n",
    "- [Dense](https://keras.io/layers/core/#Dense)\n",
    "- [Masking](https://keras.io/layers/core/)\n",
    "- [Dropout](https://keras.io/layers/core/)"
   ]
  },
  {
   "cell_type": "code",
   "execution_count": 23,
   "metadata": {},
   "outputs": [],
   "source": [
    "%matplotlib inline\n",
    "from keras.models import Model, Sequential, load_model\n",
    "from keras.layers import Input, GRU, LSTM, Dense, Masking, Dropout, InputLayer, TimeDistributed\n",
    "from keras.optimizers import Adam\n",
    "from keras.preprocessing.sequence import pad_sequences\n",
    "from keras.regularizers import l1_l2\n",
    "from keras.utils import to_categorical\n",
    "import math\n",
    "import numpy as np\n",
    "import matplotlib.pyplot as plt\n",
    "from sklearn.model_selection import train_test_split"
   ]
  },
  {
   "cell_type": "markdown",
   "metadata": {
    "nbgrader": {
     "grade": false,
     "locked": true,
     "solution": false
    }
   },
   "source": [
    "## Constants"
   ]
  },
  {
   "cell_type": "code",
   "execution_count": 24,
   "metadata": {},
   "outputs": [],
   "source": [
    "#Set up params for dataset.\n",
    "DIVISIBILITY_NUMBER = 3         # We want to test for divisilibity by 3.\n",
    "TRAIN_TEST_SPLIT = 0.7          # Percentage of data in training set\n",
    "NUM_EXAMPLES_PER_CLASS = 1000      # Generate the first 1000 multiples of 3 for training/testing\n",
    "                                # Also generate 1000 non-multiples of 3.\n",
    "NUM_CATEGORIES = 10             # 10 digits\n",
    "MAX_DIGITS = 5                  # Number of digits allowed in input strings\n",
    "\n",
    "# Neural net hyperparameters-- just an example. Adjust these as needed.\n",
    "BATCH_SIZE = 200\n",
    "NUM_LSTM_NODES = 100             \n",
    "DROPOUT = 0.5 \n",
    "LEARING_RATE = 0.3\n",
    "NUM_EPOCHS = 100\n",
    "\n",
    "# TODO: add/modify constants as needed\n"
   ]
  },
  {
   "cell_type": "markdown",
   "metadata": {
    "nbgrader": {
     "grade": false,
     "locked": true,
     "solution": false
    }
   },
   "source": [
    "## Helper functions to generate the dataset of training/testing examples"
   ]
  },
  {
   "cell_type": "code",
   "execution_count": 25,
   "metadata": {},
   "outputs": [],
   "source": [
    "from random import sample\n",
    "\n",
    "def generate_example_numbers(base_number=DIVISIBILITY_NUMBER, num_examples_per_class=NUM_EXAMPLES_PER_CLASS):\n",
    "    \"\"\"Return a tuple of two lists: (list_of_multiples, list_of_nonmultiples).\n",
    "    \n",
    "    For example, ([0, 3, 6, 9, 12, ...2997], [1, 4, 5, 8, 11, 13, 14,...,2999]).\n",
    "    Each list contains num_examples_per_class elements.\n",
    "    \"\"\"\n",
    "    a = sample(range(0,num_examples_per_class * 60), num_examples_per_class * base_number * 2)\n",
    "    # based on the density of the multiples within a set of integers\n",
    "    multiples = []\n",
    "    non_multiples = []\n",
    "    for i in a:\n",
    "        if i % 3 == 0:\n",
    "            multiples.append(i)\n",
    "        else:\n",
    "            non_multiples.append(i)\n",
    "    \n",
    "    multiples = sample(multiples, num_examples_per_class)\n",
    "    non_multiples = sample(non_multiples, num_examples_per_class)\n",
    "    \n",
    "    return (multiples, non_multiples)"
   ]
  },
  {
   "cell_type": "code",
   "execution_count": 26,
   "metadata": {},
   "outputs": [
    {
     "name": "stdout",
     "output_type": "stream",
     "text": [
      "min 51 max 59883 len 1000\n",
      "min 83 max 59980 len 1000\n"
     ]
    }
   ],
   "source": [
    "(a,b) = generate_example_numbers(base_number=3, num_examples_per_class=1000)\n",
    "print('min {} max {} len {}'.format(min(a), max(a), len(a)))\n",
    "print('min {} max {} len {}'.format(min(b), max(b), len(b)))"
   ]
  },
  {
   "cell_type": "code",
   "execution_count": 27,
   "metadata": {},
   "outputs": [],
   "source": [
    "assert(sum([i % 3 for i in a]) == 0)"
   ]
  },
  {
   "cell_type": "code",
   "execution_count": 28,
   "metadata": {},
   "outputs": [],
   "source": [
    "assert(0 not in [i % 3 for i in b])"
   ]
  },
  {
   "cell_type": "code",
   "execution_count": 29,
   "metadata": {},
   "outputs": [],
   "source": [
    "def generate_labels(size_multiples, size_non_multiples):\n",
    "    \"\"\"Return two list of labels one for the True case (multiples) and one for the False case (nonmultiples).\n",
    "    \n",
    "    Represent True as 1, False as 0.\n",
    "    For example, return ([1, 1, 1, 1.....], [0, 0, 0, 0, ....]) with each list the requested size.\n",
    "    \"\"\"\n",
    "    return ([1] * size_multiples, [0] * size_non_multiples)"
   ]
  },
  {
   "cell_type": "code",
   "execution_count": 30,
   "metadata": {},
   "outputs": [],
   "source": [
    "def digit_to_vector(digit):\n",
    "    \"\"\"Given a digit from 0-9, return a numpy array representing the digit using a 1-hot encoding.\n",
    "    keras.utils.to_categorical may be useful.\n",
    "    \"\"\"\n",
    "    tmp = to_categorical(digit, dtype='int')\n",
    "    tmp = list(tmp)\n",
    "    tmp.extend([0] * (10 - len(tmp)))\n",
    "    return np.array(tmp)"
   ]
  },
  {
   "cell_type": "code",
   "execution_count": 31,
   "metadata": {},
   "outputs": [],
   "source": [
    "def number_to_input_example(number, max_digits=MAX_DIGITS):\n",
    "    \"\"\"Given an integer number, return a numpy float array of 0.0s and 1.0s, of the correct shape to feed into the \n",
    "    neural net.\n",
    "    \n",
    "    For example, if you have a max of 5 digits then you should have a 2D numpy matrix: 5 rows (one for each\n",
    "    sequence index), and 10 columns (1 for each digit).\n",
    "    \n",
    "    In order to train in \"batch\" mode, the RNN expects every example to have the same shape. So if you have a 2-digit\n",
    "    number such as \"42\", you need to pad the example with a \"padding\" token somehow; for example, \"???42\", and then\n",
    "    use keras.layers.Masking to ignore the leading digits. Or just pad with 0s, as in \"00042\". \n",
    "    keras.preprocessing.sequence.pad_sequences can help with this.\n",
    "    \"\"\"\n",
    "    number_str = str(number)\n",
    "    number_str = '0' * (max_digits - len(number_str)) + number_str\n",
    "    tmp = []\n",
    "    for i in number_str:\n",
    "        tmp.append(digit_to_vector(int(i)))\n",
    "    return np.array(tmp)\n",
    "        \n",
    "\n",
    "from random import shuffle\n",
    "    \n",
    "def generate_dataset(divisibility_number=DIVISIBILITY_NUMBER, train_test_split=TRAIN_TEST_SPLIT, \n",
    "                     num_examples_per_class=NUM_EXAMPLES_PER_CLASS):\n",
    "    \"\"\"Generate a dataset ready for training. Returns a list of tuples. Each tuple is of the form\n",
    "    (input_array, label). The dataset should be shuffled either here or during the training process to\n",
    "    mix divisile-by-DIVISIBILITY_NUMBER and not-divisible-by-DIVISIBILITY_NUMBER examples.\n",
    "    The dataset should consist of NUM_EXAMPLES_PER_CLASS positive examples (e.g., 1000 examples of divisible-by-3), and\n",
    "    also NUM_EXAMPLES_PER_CLASS negative examples (e.g., 1000 examples of not-divisible-by-3).\n",
    "    \"\"\"\n",
    "    (multiples, non_multiples) = generate_example_numbers(base_number=divisibility_number, \n",
    "                                                          num_examples_per_class=num_examples_per_class)\n",
    "    \n",
    "    (l_multiples, l_non_multiples) = generate_labels(num_examples_per_class, num_examples_per_class)\n",
    "    \n",
    "    MAX_DIGITS = len(str(max(max(multiples), max(non_multiples))))\n",
    "    def input_f(x):\n",
    "        return number_to_input_example(x, max_digits=MAX_DIGITS)\n",
    "    \n",
    "    \n",
    "    (multiples, non_multiples) = (list(map(input_f, multiples)), list(map(input_f, non_multiples)))\n",
    "    \n",
    "    def helper(x, y):\n",
    "        res = [(i, j) for i,j in zip(x, y)]\n",
    "        return res\n",
    "    \n",
    "    mult = helper(multiples, l_multiples)\n",
    "    non_mult = helper(non_multiples, l_non_multiples)\n",
    "    result = mult + non_mult\n",
    "    shuffle(result)\n",
    "    return result"
   ]
  },
  {
   "cell_type": "code",
   "execution_count": 32,
   "metadata": {},
   "outputs": [],
   "source": [
    "result = generate_dataset()"
   ]
  },
  {
   "cell_type": "code",
   "execution_count": 33,
   "metadata": {},
   "outputs": [
    {
     "data": {
      "text/plain": [
       "(array([[0, 0, 1, 0, 0, 0, 0, 0, 0, 0],\n",
       "        [0, 0, 0, 0, 0, 0, 1, 0, 0, 0],\n",
       "        [0, 0, 0, 0, 0, 0, 1, 0, 0, 0],\n",
       "        [0, 0, 0, 0, 0, 0, 1, 0, 0, 0],\n",
       "        [1, 0, 0, 0, 0, 0, 0, 0, 0, 0]]), 0)"
      ]
     },
     "execution_count": 33,
     "metadata": {},
     "output_type": "execute_result"
    }
   ],
   "source": [
    "result[-1]"
   ]
  },
  {
   "cell_type": "code",
   "execution_count": 34,
   "metadata": {},
   "outputs": [
    {
     "data": {
      "text/plain": [
       "5"
      ]
     },
     "execution_count": 34,
     "metadata": {},
     "output_type": "execute_result"
    }
   ],
   "source": [
    "len(result[-1][0])"
   ]
  },
  {
   "cell_type": "markdown",
   "metadata": {
    "nbgrader": {
     "grade": false,
     "locked": true,
     "solution": false
    }
   },
   "source": [
    "## Helper functions to generate the model"
   ]
  },
  {
   "cell_type": "code",
   "execution_count": 35,
   "metadata": {},
   "outputs": [],
   "source": [
    "# Build RNN model.\n",
    "from keras.layers.convolutional import Conv1D\n",
    "from keras.layers.convolutional import MaxPooling1D\n",
    "\n",
    "def build_model():\n",
    "    model = Sequential()\n",
    "    \n",
    "    #TODO: Add/modify layers as desired.\n",
    "    '''\n",
    "    model.add(Input(shape=(784,))) # to edit \n",
    "    model.add(LSTM(NUM_LSTM_NODES, dropout=0.3, return_sequences=False)) \n",
    "    '''\n",
    "    \n",
    "    model.add(InputLayer(input_shape=(5,10))) # to edit \n",
    "    #model.add(Dropout(0.2))\n",
    "    #model.add(Masking(mask_value=0.0))\n",
    "    model.add(Conv1D(filters=32, kernel_size=3, padding='same', activation='relu'))\n",
    "    model.add(MaxPooling1D(pool_size=2))\n",
    "    model.add(LSTM(NUM_LSTM_NODES, dropout=0.1, return_sequences=False, recurrent_dropout=0.1 ))\n",
    "    \n",
    "    #model.add(LSTM(NUM_LSTM_NODES, dropout=0.3, return_sequences=False))\n",
    "    #model.add(LSTM(100))\n",
    "    # Use return_sequences=True for multiple hidden layers\n",
    "    #model.add(Dense(NUM_LSTM_NODES,activation='relu') )\n",
    "    #TODO: Add/modify layers as desired.\n",
    "    # model.add(Dropout(0.2))\n",
    "    model.add(Dense(1, activation='sigmoid'))  # Model should return 1 or 0 for divisible/not-divisible\n",
    "    #model.build()\n",
    "    return model"
   ]
  },
  {
   "cell_type": "code",
   "execution_count": 36,
   "metadata": {},
   "outputs": [
    {
     "name": "stdout",
     "output_type": "stream",
     "text": [
      "_________________________________________________________________\n",
      "Layer (type)                 Output Shape              Param #   \n",
      "=================================================================\n",
      "conv1d_2 (Conv1D)            (None, 5, 32)             992       \n",
      "_________________________________________________________________\n",
      "max_pooling1d_2 (MaxPooling1 (None, 2, 32)             0         \n",
      "_________________________________________________________________\n",
      "lstm_2 (LSTM)                (None, 100)               53200     \n",
      "_________________________________________________________________\n",
      "dense_2 (Dense)              (None, 1)                 101       \n",
      "=================================================================\n",
      "Total params: 54,293\n",
      "Trainable params: 54,293\n",
      "Non-trainable params: 0\n",
      "_________________________________________________________________\n"
     ]
    }
   ],
   "source": [
    "# Print the model configuration.\n",
    "model = build_model()\n",
    "adam = Adam(lr=LEARING_RATE)   # Modify learning algorithm as needed\n",
    "model.compile(loss='binary_crossentropy', optimizer=adam, metrics=['accuracy'])\n",
    "model.summary()\n"
   ]
  },
  {
   "cell_type": "markdown",
   "metadata": {
    "nbgrader": {
     "grade": false,
     "locked": true,
     "solution": false
    }
   },
   "source": [
    "# Generate dataset and model"
   ]
  },
  {
   "cell_type": "code",
   "execution_count": 37,
   "metadata": {},
   "outputs": [],
   "source": [
    "data = generate_dataset()\n",
    "X = [d[0] for d in data]\n",
    "y = [d[1] for d in data]"
   ]
  },
  {
   "cell_type": "code",
   "execution_count": 38,
   "metadata": {},
   "outputs": [],
   "source": [
    "from sklearn.model_selection import train_test_split\n",
    "train_inputs, validation_inputs, train_labels, validation_labels = train_test_split(X, y, test_size=0.2, random_state=42)"
   ]
  },
  {
   "cell_type": "code",
   "execution_count": 39,
   "metadata": {},
   "outputs": [],
   "source": [
    "train_inputs = np.array(train_inputs)\n",
    "validation_inputs = np.array(validation_inputs)\n",
    "\n",
    "train_labels = np.array(train_labels)\n",
    "validation_labels = np.array(validation_labels)"
   ]
  },
  {
   "cell_type": "code",
   "execution_count": 40,
   "metadata": {},
   "outputs": [
    {
     "name": "stdout",
     "output_type": "stream",
     "text": [
      "Train on 1600 samples, validate on 400 samples\n",
      "Epoch 1/100\n",
      "1600/1600 [==============================] - 1s 634us/step - loss: 2.0404 - acc: 0.5094 - val_loss: 0.8007 - val_acc: 0.4525\n",
      "Epoch 2/100\n",
      "1600/1600 [==============================] - 0s 35us/step - loss: 0.7347 - acc: 0.4975 - val_loss: 0.6999 - val_acc: 0.5125\n",
      "Epoch 3/100\n",
      "1600/1600 [==============================] - 0s 34us/step - loss: 0.7150 - acc: 0.5025 - val_loss: 0.7324 - val_acc: 0.5150\n",
      "Epoch 4/100\n",
      "1600/1600 [==============================] - 0s 34us/step - loss: 0.7226 - acc: 0.5181 - val_loss: 0.7235 - val_acc: 0.5125\n",
      "Epoch 5/100\n",
      "1600/1600 [==============================] - 0s 34us/step - loss: 0.7241 - acc: 0.5163 - val_loss: 0.7519 - val_acc: 0.4875\n",
      "Epoch 6/100\n",
      "1600/1600 [==============================] - 0s 34us/step - loss: 0.7479 - acc: 0.5012 - val_loss: 0.8311 - val_acc: 0.4825\n",
      "Epoch 7/100\n",
      "1600/1600 [==============================] - 0s 34us/step - loss: 0.7289 - acc: 0.5237 - val_loss: 0.8018 - val_acc: 0.4850\n",
      "Epoch 8/100\n",
      "1600/1600 [==============================] - 0s 34us/step - loss: 0.7164 - acc: 0.5056 - val_loss: 0.7073 - val_acc: 0.4825\n",
      "Epoch 9/100\n",
      "1600/1600 [==============================] - 0s 33us/step - loss: 0.7025 - acc: 0.5375 - val_loss: 0.7087 - val_acc: 0.4650\n",
      "Epoch 10/100\n",
      "1600/1600 [==============================] - 0s 34us/step - loss: 0.7079 - acc: 0.5319 - val_loss: 0.7005 - val_acc: 0.5075\n",
      "Epoch 11/100\n",
      "1600/1600 [==============================] - 0s 34us/step - loss: 0.7161 - acc: 0.5006 - val_loss: 0.7013 - val_acc: 0.5250\n",
      "Epoch 12/100\n",
      "1600/1600 [==============================] - 0s 34us/step - loss: 0.7002 - acc: 0.5219 - val_loss: 0.7179 - val_acc: 0.4725\n",
      "Epoch 13/100\n",
      "1600/1600 [==============================] - 0s 34us/step - loss: 0.6967 - acc: 0.5375 - val_loss: 0.7460 - val_acc: 0.5000\n",
      "Epoch 14/100\n",
      "1600/1600 [==============================] - 0s 35us/step - loss: 0.6977 - acc: 0.5250 - val_loss: 0.7130 - val_acc: 0.5100\n",
      "Epoch 15/100\n",
      "1600/1600 [==============================] - 0s 33us/step - loss: 0.6880 - acc: 0.5512 - val_loss: 0.7105 - val_acc: 0.5050\n",
      "Epoch 16/100\n",
      "1600/1600 [==============================] - 0s 34us/step - loss: 0.6854 - acc: 0.5556 - val_loss: 0.6942 - val_acc: 0.5200\n",
      "Epoch 17/100\n",
      "1600/1600 [==============================] - 0s 35us/step - loss: 0.6822 - acc: 0.5525 - val_loss: 0.7180 - val_acc: 0.4725\n",
      "Epoch 18/100\n",
      "1600/1600 [==============================] - 0s 34us/step - loss: 0.6924 - acc: 0.5475 - val_loss: 0.7525 - val_acc: 0.4850\n",
      "Epoch 19/100\n",
      "1600/1600 [==============================] - 0s 35us/step - loss: 0.6998 - acc: 0.5450 - val_loss: 0.7057 - val_acc: 0.5225\n",
      "Epoch 20/100\n",
      "1600/1600 [==============================] - 0s 35us/step - loss: 0.7010 - acc: 0.5394 - val_loss: 0.7033 - val_acc: 0.4950\n",
      "Epoch 21/100\n",
      "1600/1600 [==============================] - 0s 33us/step - loss: 0.6939 - acc: 0.5369 - val_loss: 0.7013 - val_acc: 0.5500\n",
      "Epoch 22/100\n",
      "1600/1600 [==============================] - 0s 34us/step - loss: 0.6880 - acc: 0.5406 - val_loss: 0.7142 - val_acc: 0.4775\n",
      "Epoch 23/100\n",
      "1600/1600 [==============================] - 0s 34us/step - loss: 0.6896 - acc: 0.5362 - val_loss: 0.7066 - val_acc: 0.5150\n",
      "Epoch 24/100\n",
      "1600/1600 [==============================] - 0s 36us/step - loss: 0.7024 - acc: 0.5294 - val_loss: 0.7001 - val_acc: 0.5150\n",
      "Epoch 25/100\n",
      "1600/1600 [==============================] - 0s 37us/step - loss: 0.7056 - acc: 0.5106 - val_loss: 0.7047 - val_acc: 0.4900\n",
      "Epoch 26/100\n",
      "1600/1600 [==============================] - 0s 36us/step - loss: 0.6944 - acc: 0.5325 - val_loss: 0.7005 - val_acc: 0.5000\n",
      "Epoch 27/100\n",
      "1600/1600 [==============================] - 0s 36us/step - loss: 0.6997 - acc: 0.5250 - val_loss: 0.7193 - val_acc: 0.5150\n",
      "Epoch 28/100\n",
      "1600/1600 [==============================] - 0s 35us/step - loss: 0.6961 - acc: 0.5175 - val_loss: 0.7076 - val_acc: 0.5125\n",
      "Epoch 29/100\n",
      "1600/1600 [==============================] - 0s 36us/step - loss: 0.7105 - acc: 0.4975 - val_loss: 0.7266 - val_acc: 0.4775\n",
      "Epoch 30/100\n",
      "1600/1600 [==============================] - 0s 36us/step - loss: 0.7060 - acc: 0.5100 - val_loss: 0.7263 - val_acc: 0.5000\n",
      "Epoch 31/100\n",
      "1600/1600 [==============================] - 0s 37us/step - loss: 0.6950 - acc: 0.5212 - val_loss: 0.7131 - val_acc: 0.5100\n",
      "Epoch 32/100\n",
      "1600/1600 [==============================] - 0s 36us/step - loss: 0.6938 - acc: 0.5119 - val_loss: 0.7223 - val_acc: 0.4775\n",
      "Epoch 33/100\n",
      "1600/1600 [==============================] - 0s 37us/step - loss: 0.6859 - acc: 0.5469 - val_loss: 0.7562 - val_acc: 0.4875\n",
      "Epoch 34/100\n",
      "1600/1600 [==============================] - 0s 37us/step - loss: 0.7063 - acc: 0.5119 - val_loss: 0.7165 - val_acc: 0.4975\n",
      "Epoch 35/100\n",
      "1600/1600 [==============================] - 0s 36us/step - loss: 0.7046 - acc: 0.5137 - val_loss: 0.6979 - val_acc: 0.5150\n",
      "Epoch 36/100\n",
      "1600/1600 [==============================] - 0s 41us/step - loss: 0.7008 - acc: 0.5250 - val_loss: 0.7133 - val_acc: 0.4850\n",
      "Epoch 37/100\n",
      "1600/1600 [==============================] - 0s 38us/step - loss: 0.7037 - acc: 0.5181 - val_loss: 0.7227 - val_acc: 0.4825\n",
      "Epoch 38/100\n",
      "1600/1600 [==============================] - 0s 30us/step - loss: 0.6948 - acc: 0.5212 - val_loss: 0.6951 - val_acc: 0.5200\n",
      "Epoch 39/100\n",
      "1600/1600 [==============================] - 0s 29us/step - loss: 0.6952 - acc: 0.5263 - val_loss: 0.6992 - val_acc: 0.5075\n",
      "Epoch 40/100\n",
      "1600/1600 [==============================] - 0s 29us/step - loss: 0.6931 - acc: 0.5050 - val_loss: 0.6973 - val_acc: 0.5100\n",
      "Epoch 41/100\n",
      "1600/1600 [==============================] - 0s 30us/step - loss: 0.7053 - acc: 0.5075 - val_loss: 0.6978 - val_acc: 0.5050\n",
      "Epoch 42/100\n",
      "1600/1600 [==============================] - 0s 30us/step - loss: 0.6980 - acc: 0.5231 - val_loss: 0.7270 - val_acc: 0.4975\n",
      "Epoch 43/100\n",
      "1600/1600 [==============================] - 0s 30us/step - loss: 0.6975 - acc: 0.5206 - val_loss: 0.7032 - val_acc: 0.5325\n",
      "Epoch 44/100\n",
      "1600/1600 [==============================] - 0s 30us/step - loss: 0.6821 - acc: 0.5575 - val_loss: 0.7387 - val_acc: 0.4925\n",
      "Epoch 45/100\n",
      "1600/1600 [==============================] - 0s 29us/step - loss: 0.6978 - acc: 0.5281 - val_loss: 0.7096 - val_acc: 0.4900\n",
      "Epoch 46/100\n",
      "1600/1600 [==============================] - 0s 29us/step - loss: 0.6927 - acc: 0.5163 - val_loss: 0.7116 - val_acc: 0.5450\n",
      "Epoch 47/100\n",
      "1600/1600 [==============================] - 0s 29us/step - loss: 0.6928 - acc: 0.5294 - val_loss: 0.6987 - val_acc: 0.5050\n",
      "Epoch 48/100\n",
      "1600/1600 [==============================] - 0s 29us/step - loss: 0.6864 - acc: 0.5550 - val_loss: 0.7118 - val_acc: 0.5200\n",
      "Epoch 49/100\n",
      "1600/1600 [==============================] - 0s 32us/step - loss: 0.6824 - acc: 0.5656 - val_loss: 0.7016 - val_acc: 0.5250\n",
      "Epoch 50/100\n",
      "1600/1600 [==============================] - 0s 30us/step - loss: 0.6900 - acc: 0.5494 - val_loss: 0.7053 - val_acc: 0.5050\n",
      "Epoch 51/100\n",
      "1600/1600 [==============================] - 0s 30us/step - loss: 0.6812 - acc: 0.5463 - val_loss: 0.7105 - val_acc: 0.5075\n",
      "Epoch 52/100\n",
      "1600/1600 [==============================] - 0s 30us/step - loss: 0.6910 - acc: 0.5269 - val_loss: 0.7033 - val_acc: 0.5125\n",
      "Epoch 53/100\n",
      "1600/1600 [==============================] - 0s 30us/step - loss: 0.6897 - acc: 0.5394 - val_loss: 0.6996 - val_acc: 0.5150\n",
      "Epoch 54/100\n",
      "1600/1600 [==============================] - 0s 39us/step - loss: 0.6859 - acc: 0.5456 - val_loss: 0.7035 - val_acc: 0.4950\n",
      "Epoch 55/100\n",
      "1600/1600 [==============================] - 0s 53us/step - loss: 0.6904 - acc: 0.5444 - val_loss: 0.6976 - val_acc: 0.5500\n",
      "Epoch 56/100\n",
      "1600/1600 [==============================] - 0s 65us/step - loss: 0.6941 - acc: 0.5356 - val_loss: 0.6981 - val_acc: 0.5200\n",
      "Epoch 57/100\n",
      "1600/1600 [==============================] - 0s 57us/step - loss: 0.6924 - acc: 0.5231 - val_loss: 0.6958 - val_acc: 0.5125\n",
      "Epoch 58/100\n",
      "1600/1600 [==============================] - 0s 55us/step - loss: 0.6958 - acc: 0.5269 - val_loss: 0.7008 - val_acc: 0.4975\n",
      "Epoch 59/100\n",
      "1600/1600 [==============================] - 0s 54us/step - loss: 0.6991 - acc: 0.5100 - val_loss: 0.6949 - val_acc: 0.5175\n",
      "Epoch 60/100\n"
     ]
    },
    {
     "name": "stdout",
     "output_type": "stream",
     "text": [
      "1600/1600 [==============================] - 0s 54us/step - loss: 0.7014 - acc: 0.5406 - val_loss: 0.6981 - val_acc: 0.5125\n",
      "Epoch 61/100\n",
      "1600/1600 [==============================] - 0s 52us/step - loss: 0.6998 - acc: 0.5056 - val_loss: 0.6982 - val_acc: 0.5225\n",
      "Epoch 62/100\n",
      "1600/1600 [==============================] - 0s 56us/step - loss: 0.6958 - acc: 0.5194 - val_loss: 0.6883 - val_acc: 0.5425\n",
      "Epoch 63/100\n",
      "1600/1600 [==============================] - 0s 51us/step - loss: 0.6982 - acc: 0.5294 - val_loss: 0.6968 - val_acc: 0.5375\n",
      "Epoch 64/100\n",
      "1600/1600 [==============================] - 0s 42us/step - loss: 0.6947 - acc: 0.5263 - val_loss: 0.7100 - val_acc: 0.5150\n",
      "Epoch 65/100\n",
      "1600/1600 [==============================] - 0s 33us/step - loss: 0.7026 - acc: 0.5169 - val_loss: 0.7045 - val_acc: 0.4950\n",
      "Epoch 66/100\n",
      "1600/1600 [==============================] - 0s 30us/step - loss: 0.7055 - acc: 0.5131 - val_loss: 0.7375 - val_acc: 0.4850\n",
      "Epoch 67/100\n",
      "1600/1600 [==============================] - 0s 29us/step - loss: 0.7053 - acc: 0.5175 - val_loss: 0.7102 - val_acc: 0.4925\n",
      "Epoch 68/100\n",
      "1600/1600 [==============================] - 0s 30us/step - loss: 0.6960 - acc: 0.5288 - val_loss: 0.6942 - val_acc: 0.4875\n",
      "Epoch 69/100\n",
      "1600/1600 [==============================] - 0s 31us/step - loss: 0.6978 - acc: 0.5275 - val_loss: 0.7178 - val_acc: 0.5100\n",
      "Epoch 70/100\n",
      "1600/1600 [==============================] - 0s 30us/step - loss: 0.6980 - acc: 0.5194 - val_loss: 0.7089 - val_acc: 0.5200\n",
      "Epoch 71/100\n",
      "1600/1600 [==============================] - 0s 30us/step - loss: 0.6914 - acc: 0.5300 - val_loss: 0.6929 - val_acc: 0.5200\n",
      "Epoch 72/100\n",
      "1600/1600 [==============================] - 0s 30us/step - loss: 0.6957 - acc: 0.5350 - val_loss: 0.7157 - val_acc: 0.5125\n",
      "Epoch 73/100\n",
      "1600/1600 [==============================] - 0s 31us/step - loss: 0.7036 - acc: 0.5312 - val_loss: 0.7366 - val_acc: 0.4925\n",
      "Epoch 74/100\n",
      "1600/1600 [==============================] - 0s 31us/step - loss: 0.7056 - acc: 0.5300 - val_loss: 0.7089 - val_acc: 0.4825\n",
      "Epoch 75/100\n",
      "1600/1600 [==============================] - 0s 31us/step - loss: 0.6947 - acc: 0.5412 - val_loss: 0.7022 - val_acc: 0.5050\n",
      "Epoch 76/100\n",
      "1600/1600 [==============================] - 0s 32us/step - loss: 0.6984 - acc: 0.5388 - val_loss: 0.7237 - val_acc: 0.5175\n",
      "Epoch 77/100\n",
      "1600/1600 [==============================] - 0s 31us/step - loss: 0.7131 - acc: 0.5281 - val_loss: 0.7033 - val_acc: 0.5200\n",
      "Epoch 78/100\n",
      "1600/1600 [==============================] - 0s 31us/step - loss: 0.7322 - acc: 0.5094 - val_loss: 0.7460 - val_acc: 0.4750\n",
      "Epoch 79/100\n",
      "1600/1600 [==============================] - 0s 30us/step - loss: 0.7264 - acc: 0.4969 - val_loss: 0.7500 - val_acc: 0.4850\n",
      "Epoch 80/100\n",
      "1600/1600 [==============================] - 0s 30us/step - loss: 0.7182 - acc: 0.5125 - val_loss: 0.7072 - val_acc: 0.5150\n",
      "Epoch 81/100\n",
      "1600/1600 [==============================] - 0s 31us/step - loss: 0.7100 - acc: 0.5269 - val_loss: 0.6974 - val_acc: 0.5225\n",
      "Epoch 82/100\n",
      "1600/1600 [==============================] - 0s 31us/step - loss: 0.6980 - acc: 0.5356 - val_loss: 0.6979 - val_acc: 0.4900\n",
      "Epoch 83/100\n",
      "1600/1600 [==============================] - 0s 31us/step - loss: 0.6884 - acc: 0.5300 - val_loss: 0.6937 - val_acc: 0.5150\n",
      "Epoch 84/100\n",
      "1600/1600 [==============================] - 0s 30us/step - loss: 0.6938 - acc: 0.5225 - val_loss: 0.7368 - val_acc: 0.5025\n",
      "Epoch 85/100\n",
      "1600/1600 [==============================] - 0s 31us/step - loss: 0.7021 - acc: 0.5150 - val_loss: 0.6985 - val_acc: 0.5275\n",
      "Epoch 86/100\n",
      "1600/1600 [==============================] - 0s 32us/step - loss: 0.6963 - acc: 0.5462 - val_loss: 0.7089 - val_acc: 0.5075\n",
      "Epoch 87/100\n",
      "1600/1600 [==============================] - 0s 32us/step - loss: 0.6995 - acc: 0.5081 - val_loss: 0.6947 - val_acc: 0.4900\n",
      "Epoch 88/100\n",
      "1600/1600 [==============================] - 0s 30us/step - loss: 0.6930 - acc: 0.5356 - val_loss: 0.6944 - val_acc: 0.4800\n",
      "Epoch 89/100\n",
      "1600/1600 [==============================] - 0s 30us/step - loss: 0.6899 - acc: 0.5263 - val_loss: 0.7390 - val_acc: 0.4950\n",
      "Epoch 90/100\n",
      "1600/1600 [==============================] - 0s 31us/step - loss: 0.7026 - acc: 0.5100 - val_loss: 0.7079 - val_acc: 0.5200\n",
      "Epoch 91/100\n",
      "1600/1600 [==============================] - 0s 30us/step - loss: 0.6992 - acc: 0.5038 - val_loss: 0.6879 - val_acc: 0.5175\n",
      "Epoch 92/100\n",
      "1600/1600 [==============================] - 0s 30us/step - loss: 0.6895 - acc: 0.5400 - val_loss: 0.6951 - val_acc: 0.5075\n",
      "Epoch 93/100\n",
      "1600/1600 [==============================] - 0s 30us/step - loss: 0.6932 - acc: 0.5294 - val_loss: 0.6980 - val_acc: 0.5050\n",
      "Epoch 94/100\n",
      "1600/1600 [==============================] - 0s 31us/step - loss: 0.7014 - acc: 0.5087 - val_loss: 0.7065 - val_acc: 0.5175\n",
      "Epoch 95/100\n",
      "1600/1600 [==============================] - 0s 30us/step - loss: 0.6903 - acc: 0.5394 - val_loss: 0.7330 - val_acc: 0.5125\n",
      "Epoch 96/100\n",
      "1600/1600 [==============================] - 0s 30us/step - loss: 0.6973 - acc: 0.5387 - val_loss: 0.7318 - val_acc: 0.5125\n",
      "Epoch 97/100\n",
      "1600/1600 [==============================] - 0s 31us/step - loss: 0.7040 - acc: 0.5169 - val_loss: 0.7150 - val_acc: 0.4900\n",
      "Epoch 98/100\n",
      "1600/1600 [==============================] - 0s 31us/step - loss: 0.6861 - acc: 0.5288 - val_loss: 0.7098 - val_acc: 0.4875\n",
      "Epoch 99/100\n",
      "1600/1600 [==============================] - 0s 31us/step - loss: 0.6954 - acc: 0.5337 - val_loss: 0.7543 - val_acc: 0.4875\n",
      "Epoch 100/100\n",
      "1600/1600 [==============================] - 0s 31us/step - loss: 0.7108 - acc: 0.5356 - val_loss: 0.7241 - val_acc: 0.4775\n"
     ]
    },
    {
     "data": {
      "text/plain": [
       "<keras.callbacks.History at 0x1078fc080>"
      ]
     },
     "execution_count": 40,
     "metadata": {},
     "output_type": "execute_result"
    }
   ],
   "source": [
    "#TODO: Configure for viewing validation loss/accuracy using the \"validation_data\" parameter.\n",
    "model.fit(train_inputs, train_labels, validation_data=(validation_inputs, validation_labels), batch_size=BATCH_SIZE, epochs=NUM_EPOCHS, shuffle=True, verbose=1)"
   ]
  },
  {
   "cell_type": "markdown",
   "metadata": {
    "nbgrader": {
     "grade": false,
     "locked": true,
     "solution": false
    }
   },
   "source": [
    "# Train the model"
   ]
  },
  {
   "cell_type": "markdown",
   "metadata": {},
   "source": [
    "- [Keras - fit](https://keras.io/models/sequential/)\n",
    "- [Recurrent Neural Networks by Example in Python](https://towardsdatascience.com/recurrent-neural-networks-by-example-in-python-ffd204f99470)\n",
    "- [Sequence Classification with LSTM Recurrent Neural Networks in Python with Keras](https://machinelearningmastery.com/sequence-classification-lstm-recurrent-neural-networks-python-keras/)"
   ]
  },
  {
   "cell_type": "markdown",
   "metadata": {
    "nbgrader": {
     "grade": false,
     "locked": true,
     "solution": false
    }
   },
   "source": [
    "Report your final accuracy on the validation dataset below."
   ]
  },
  {
   "cell_type": "code",
   "execution_count": 41,
   "metadata": {},
   "outputs": [
    {
     "name": "stdout",
     "output_type": "stream",
     "text": [
      "Accuracy: 47.75%\n"
     ]
    }
   ],
   "source": [
    "scores = model.evaluate(validation_inputs, validation_labels, verbose=0)\n",
    "print(\"Accuracy: %.2f%%\" % (scores[1]*100))"
   ]
  },
  {
   "cell_type": "markdown",
   "metadata": {
    "nbgrader": {
     "grade": false,
     "locked": true,
     "solution": false
    }
   },
   "source": [
    "## Examine model outputs"
   ]
  },
  {
   "cell_type": "code",
   "execution_count": 42,
   "metadata": {},
   "outputs": [
    {
     "data": {
      "text/plain": [
       "[array([[0.40687916]], dtype=float32),\n",
       " array([[0.43077323]], dtype=float32),\n",
       " array([[0.3480372]], dtype=float32),\n",
       " array([[0.65829575]], dtype=float32),\n",
       " array([[0.40687916]], dtype=float32),\n",
       " array([[0.40687916]], dtype=float32),\n",
       " array([[0.40687916]], dtype=float32),\n",
       " array([[0.3480372]], dtype=float32),\n",
       " array([[0.40687916]], dtype=float32),\n",
       " array([[0.43077323]], dtype=float32)]"
      ]
     },
     "execution_count": 42,
     "metadata": {},
     "output_type": "execute_result"
    }
   ],
   "source": [
    "# Examine the outputs of the model on some test data.\n",
    "[model.predict(np.expand_dims(validation_inputs[i], 0)) for i in range(10)]"
   ]
  },
  {
   "cell_type": "code",
   "execution_count": 43,
   "metadata": {},
   "outputs": [
    {
     "data": {
      "text/plain": [
       "[1, 0, 0, 1, 1, 1, 1, 1, 1, 1]"
      ]
     },
     "execution_count": 43,
     "metadata": {},
     "output_type": "execute_result"
    }
   ],
   "source": [
    "[validation_labels[i] for i in range(10)]"
   ]
  },
  {
   "cell_type": "code",
   "execution_count": 44,
   "metadata": {},
   "outputs": [
    {
     "ename": "ValueError",
     "evalue": "Error when checking input: expected input_2 to have 3 dimensions, but got array with shape (5, 10)",
     "output_type": "error",
     "traceback": [
      "\u001b[0;31m---------------------------------------------------------------------------\u001b[0m",
      "\u001b[0;31mValueError\u001b[0m                                Traceback (most recent call last)",
      "\u001b[0;32m<ipython-input-44-0708a7c5c51c>\u001b[0m in \u001b[0;36m<module>\u001b[0;34m\u001b[0m\n\u001b[1;32m      9\u001b[0m     \u001b[0;31m#\u001b[0m\u001b[0;34m\u001b[0m\u001b[0;34m\u001b[0m\u001b[0;34m\u001b[0m\u001b[0m\n\u001b[1;32m     10\u001b[0m     \u001b[0;31m# TODO something like this:\u001b[0m\u001b[0;34m\u001b[0m\u001b[0;34m\u001b[0m\u001b[0;34m\u001b[0m\u001b[0m\n\u001b[0;32m---> 11\u001b[0;31m     \u001b[0mresults\u001b[0m\u001b[0;34m.\u001b[0m\u001b[0mappend\u001b[0m\u001b[0;34m(\u001b[0m\u001b[0mmodel\u001b[0m\u001b[0;34m.\u001b[0m\u001b[0mpredict\u001b[0m\u001b[0;34m(\u001b[0m\u001b[0mnumber_to_input_example\u001b[0m\u001b[0;34m(\u001b[0m\u001b[0mnum\u001b[0m\u001b[0;34m)\u001b[0m\u001b[0;34m)\u001b[0m\u001b[0;34m[\u001b[0m\u001b[0;36m0\u001b[0m\u001b[0;34m]\u001b[0m\u001b[0;34m[\u001b[0m\u001b[0;36m0\u001b[0m\u001b[0;34m]\u001b[0m\u001b[0;34m)\u001b[0m\u001b[0;34m\u001b[0m\u001b[0;34m\u001b[0m\u001b[0m\n\u001b[0m",
      "\u001b[0;32m~/.virtualenvs/ML/lib/python3.7/site-packages/keras/engine/training.py\u001b[0m in \u001b[0;36mpredict\u001b[0;34m(self, x, batch_size, verbose, steps)\u001b[0m\n\u001b[1;32m   1147\u001b[0m                              'argument.')\n\u001b[1;32m   1148\u001b[0m         \u001b[0;31m# Validate user data.\u001b[0m\u001b[0;34m\u001b[0m\u001b[0;34m\u001b[0m\u001b[0;34m\u001b[0m\u001b[0m\n\u001b[0;32m-> 1149\u001b[0;31m         \u001b[0mx\u001b[0m\u001b[0;34m,\u001b[0m \u001b[0m_\u001b[0m\u001b[0;34m,\u001b[0m \u001b[0m_\u001b[0m \u001b[0;34m=\u001b[0m \u001b[0mself\u001b[0m\u001b[0;34m.\u001b[0m\u001b[0m_standardize_user_data\u001b[0m\u001b[0;34m(\u001b[0m\u001b[0mx\u001b[0m\u001b[0;34m)\u001b[0m\u001b[0;34m\u001b[0m\u001b[0;34m\u001b[0m\u001b[0m\n\u001b[0m\u001b[1;32m   1150\u001b[0m         \u001b[0;32mif\u001b[0m \u001b[0mself\u001b[0m\u001b[0;34m.\u001b[0m\u001b[0mstateful\u001b[0m\u001b[0;34m:\u001b[0m\u001b[0;34m\u001b[0m\u001b[0;34m\u001b[0m\u001b[0m\n\u001b[1;32m   1151\u001b[0m             \u001b[0;32mif\u001b[0m \u001b[0mx\u001b[0m\u001b[0;34m[\u001b[0m\u001b[0;36m0\u001b[0m\u001b[0;34m]\u001b[0m\u001b[0;34m.\u001b[0m\u001b[0mshape\u001b[0m\u001b[0;34m[\u001b[0m\u001b[0;36m0\u001b[0m\u001b[0;34m]\u001b[0m \u001b[0;34m>\u001b[0m \u001b[0mbatch_size\u001b[0m \u001b[0;32mand\u001b[0m \u001b[0mx\u001b[0m\u001b[0;34m[\u001b[0m\u001b[0;36m0\u001b[0m\u001b[0;34m]\u001b[0m\u001b[0;34m.\u001b[0m\u001b[0mshape\u001b[0m\u001b[0;34m[\u001b[0m\u001b[0;36m0\u001b[0m\u001b[0;34m]\u001b[0m \u001b[0;34m%\u001b[0m \u001b[0mbatch_size\u001b[0m \u001b[0;34m!=\u001b[0m \u001b[0;36m0\u001b[0m\u001b[0;34m:\u001b[0m\u001b[0;34m\u001b[0m\u001b[0;34m\u001b[0m\u001b[0m\n",
      "\u001b[0;32m~/.virtualenvs/ML/lib/python3.7/site-packages/keras/engine/training.py\u001b[0m in \u001b[0;36m_standardize_user_data\u001b[0;34m(self, x, y, sample_weight, class_weight, check_array_lengths, batch_size)\u001b[0m\n\u001b[1;32m    749\u001b[0m             \u001b[0mfeed_input_shapes\u001b[0m\u001b[0;34m,\u001b[0m\u001b[0;34m\u001b[0m\u001b[0;34m\u001b[0m\u001b[0m\n\u001b[1;32m    750\u001b[0m             \u001b[0mcheck_batch_axis\u001b[0m\u001b[0;34m=\u001b[0m\u001b[0;32mFalse\u001b[0m\u001b[0;34m,\u001b[0m  \u001b[0;31m# Don't enforce the batch size.\u001b[0m\u001b[0;34m\u001b[0m\u001b[0;34m\u001b[0m\u001b[0m\n\u001b[0;32m--> 751\u001b[0;31m             exception_prefix='input')\n\u001b[0m\u001b[1;32m    752\u001b[0m \u001b[0;34m\u001b[0m\u001b[0m\n\u001b[1;32m    753\u001b[0m         \u001b[0;32mif\u001b[0m \u001b[0my\u001b[0m \u001b[0;32mis\u001b[0m \u001b[0;32mnot\u001b[0m \u001b[0;32mNone\u001b[0m\u001b[0;34m:\u001b[0m\u001b[0;34m\u001b[0m\u001b[0;34m\u001b[0m\u001b[0m\n",
      "\u001b[0;32m~/.virtualenvs/ML/lib/python3.7/site-packages/keras/engine/training_utils.py\u001b[0m in \u001b[0;36mstandardize_input_data\u001b[0;34m(data, names, shapes, check_batch_axis, exception_prefix)\u001b[0m\n\u001b[1;32m    126\u001b[0m                         \u001b[0;34m': expected '\u001b[0m \u001b[0;34m+\u001b[0m \u001b[0mnames\u001b[0m\u001b[0;34m[\u001b[0m\u001b[0mi\u001b[0m\u001b[0;34m]\u001b[0m \u001b[0;34m+\u001b[0m \u001b[0;34m' to have '\u001b[0m \u001b[0;34m+\u001b[0m\u001b[0;34m\u001b[0m\u001b[0;34m\u001b[0m\u001b[0m\n\u001b[1;32m    127\u001b[0m                         \u001b[0mstr\u001b[0m\u001b[0;34m(\u001b[0m\u001b[0mlen\u001b[0m\u001b[0;34m(\u001b[0m\u001b[0mshape\u001b[0m\u001b[0;34m)\u001b[0m\u001b[0;34m)\u001b[0m \u001b[0;34m+\u001b[0m \u001b[0;34m' dimensions, but got array '\u001b[0m\u001b[0;34m\u001b[0m\u001b[0;34m\u001b[0m\u001b[0m\n\u001b[0;32m--> 128\u001b[0;31m                         'with shape ' + str(data_shape))\n\u001b[0m\u001b[1;32m    129\u001b[0m                 \u001b[0;32mif\u001b[0m \u001b[0;32mnot\u001b[0m \u001b[0mcheck_batch_axis\u001b[0m\u001b[0;34m:\u001b[0m\u001b[0;34m\u001b[0m\u001b[0;34m\u001b[0m\u001b[0m\n\u001b[1;32m    130\u001b[0m                     \u001b[0mdata_shape\u001b[0m \u001b[0;34m=\u001b[0m \u001b[0mdata_shape\u001b[0m\u001b[0;34m[\u001b[0m\u001b[0;36m1\u001b[0m\u001b[0;34m:\u001b[0m\u001b[0;34m]\u001b[0m\u001b[0;34m\u001b[0m\u001b[0;34m\u001b[0m\u001b[0m\n",
      "\u001b[0;31mValueError\u001b[0m: Error when checking input: expected input_2 to have 3 dimensions, but got array with shape (5, 10)"
     ]
    }
   ],
   "source": [
    "# Plot some results\n",
    "results = []\n",
    "lo = 0\n",
    "hi = 1000\n",
    "rng = range(lo,hi)\n",
    "for num in rng:\n",
    "    # Hint: to run on a single example, you can use \"np.expand_dims\" to add an extra \n",
    "    # dimension to a 2D array, in order to make a \"batch\" of 1.\n",
    "    #\n",
    "    # TODO something like this:\n",
    "    results.append(model.predict(number_to_input_example(num))[0][0])"
   ]
  },
  {
   "cell_type": "code",
   "execution_count": null,
   "metadata": {},
   "outputs": [],
   "source": [
    "plt.plot(rng[:100], results[:100])\n",
    "plt.show()"
   ]
  },
  {
   "cell_type": "markdown",
   "metadata": {
    "collapsed": true,
    "nbgrader": {
     "grade": false,
     "locked": true,
     "solution": false
    }
   },
   "source": [
    "# Further Questions"
   ]
  },
  {
   "cell_type": "markdown",
   "metadata": {
    "nbgrader": {
     "grade": false,
     "locked": true,
     "solution": false
    }
   },
   "source": [
    "1) What happens if you give a 5-digit number or a 6-digit number to the trained model, after training on 1-, 2-, 3-, and 4- digit numbers?"
   ]
  },
  {
   "cell_type": "markdown",
   "metadata": {
    "collapsed": true
   },
   "source": [
    "TODO"
   ]
  },
  {
   "cell_type": "markdown",
   "metadata": {
    "nbgrader": {
     "grade": false,
     "locked": true,
     "solution": false
    }
   },
   "source": [
    "2) Pick another number from Hofstadter's list above, such as 9, 7, or 29. Train a model, and report the accuracy of your results. Did it work or not? Why or why not (your best guess)?"
   ]
  },
  {
   "cell_type": "markdown",
   "metadata": {
    "collapsed": true
   },
   "source": [
    "TODO"
   ]
  },
  {
   "cell_type": "markdown",
   "metadata": {
    "nbgrader": {
     "grade": false,
     "locked": true,
     "solution": false
    }
   },
   "source": [
    "3) Record any other comments/insights from your model training process. What worked well? What caused trouble?"
   ]
  },
  {
   "cell_type": "markdown",
   "metadata": {
    "collapsed": true
   },
   "source": [
    "TODO"
   ]
  },
  {
   "cell_type": "markdown",
   "metadata": {
    "nbgrader": {
     "grade": false,
     "locked": true,
     "solution": false
    }
   },
   "source": [
    "4) If you didn't have a training algorithm, how would you design a RNN-style system to recognize divisibility by 3?\n",
    "Ignoring the details of the weights, what kind of state must be carried over from step to step as each digit is read in\n",
    "successively?"
   ]
  },
  {
   "cell_type": "markdown",
   "metadata": {
    "collapsed": true
   },
   "source": [
    "TODO"
   ]
  },
  {
   "cell_type": "markdown",
   "metadata": {
    "nbgrader": {
     "grade": false,
     "locked": true,
     "solution": false
    }
   },
   "source": [
    "5) BONUS (hard): Explain how the neural net you trained above works, with evidence from examining the node activations as the net runs. Does it do anything similar to what you would have designed as a human?"
   ]
  },
  {
   "cell_type": "markdown",
   "metadata": {
    "collapsed": true
   },
   "source": [
    "TODO"
   ]
  },
  {
   "cell_type": "code",
   "execution_count": null,
   "metadata": {},
   "outputs": [],
   "source": [
    "\n",
    "\n",
    "\n",
    "# LSTM and CNN for sequence classification in the IMDB dataset\n",
    "import numpy\n",
    "from keras.datasets import imdb\n",
    "from keras.models import Sequential\n",
    "from keras.layers import Dense\n",
    "from keras.layers import LSTM\n",
    "from keras.layers.convolutional import Conv1D\n",
    "from keras.layers.convolutional import MaxPooling1D\n",
    "from keras.layers.embeddings import Embedding\n",
    "from keras.preprocessing import sequence\n",
    "# fix random seed for reproducibility\n",
    "numpy.random.seed(7)\n",
    "# load the dataset but only keep the top n words, zero the rest\n",
    "top_words = 5000\n",
    "(X_train, y_train), (X_test, y_test) = imdb.load_data(num_words=top_words)\n",
    "# truncate and pad input sequences\n",
    "max_review_length = 500\n",
    "X_train = sequence.pad_sequences(X_train, maxlen=max_review_length)\n",
    "X_test = sequence.pad_sequences(X_test, maxlen=max_review_length)\n",
    "# create the model\n",
    "embedding_vecor_length = 32\n",
    "model = Sequential()\n",
    "model.add(Embedding(top_words, embedding_vecor_length, input_length=max_review_length))\n",
    "model.add(Conv1D(filters=32, kernel_size=3, padding='same', activation='relu'))\n",
    "model.add(MaxPooling1D(pool_size=2))\n",
    "model.add(LSTM(100))\n",
    "model.add(Dense(1, activation='sigmoid'))\n",
    "model.compile(loss='binary_crossentropy', optimizer='adam', metrics=['accuracy'])\n",
    "print(model.summary())\n",
    "model.fit(X_train, y_train, epochs=3, batch_size=64)\n",
    "# Final evaluation of the model\n",
    "scores = model.evaluate(X_test, y_test, verbose=0)\n",
    "print(\"Accuracy: %.2f%%\" % (scores[1]*100))"
   ]
  },
  {
   "cell_type": "code",
   "execution_count": null,
   "metadata": {},
   "outputs": [],
   "source": [
    "X_train"
   ]
  },
  {
   "cell_type": "code",
   "execution_count": null,
   "metadata": {},
   "outputs": [],
   "source": [
    "y_train"
   ]
  },
  {
   "cell_type": "code",
   "execution_count": null,
   "metadata": {},
   "outputs": [],
   "source": [
    "X_train[0]"
   ]
  },
  {
   "cell_type": "code",
   "execution_count": null,
   "metadata": {},
   "outputs": [],
   "source": []
  }
 ],
 "metadata": {
  "anaconda-cloud": {},
  "kernelspec": {
   "display_name": "Python 3",
   "language": "python",
   "name": "python3"
  },
  "language_info": {
   "codemirror_mode": {
    "name": "ipython",
    "version": 3
   },
   "file_extension": ".py",
   "mimetype": "text/x-python",
   "name": "python",
   "nbconvert_exporter": "python",
   "pygments_lexer": "ipython3",
   "version": "3.7.3"
  }
 },
 "nbformat": 4,
 "nbformat_minor": 2
}
