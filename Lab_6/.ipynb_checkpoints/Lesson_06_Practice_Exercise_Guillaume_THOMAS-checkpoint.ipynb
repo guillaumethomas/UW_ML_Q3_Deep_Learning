{
 "cells": [
  {
   "cell_type": "markdown",
   "metadata": {},
   "source": [
    "# Lesson 6 Practice Exercise\n",
    "\n",
    "## Start\n"
   ]
  },
  {
   "cell_type": "markdown",
   "metadata": {},
   "source": [
    "- [Assignment](https://canvas.uw.edu/courses/1260524/assignments/4656100?module_item_id=9186173)\n",
    "- [LSTM Tutorial](https://adventuresinmachinelearning.com/keras-lstm-tutorial/)\n",
    "- [Understand the Difference Between Return Sequences and Return States for LSTMs in Keras](https://machinelearningmastery.com/return-sequences-and-return-states-for-lstms-in-keras/)\n",
    "- [MIT Deep Learning Book](https://www.deeplearningbook.org/)\n",
    "- [KERAS LSTM](https://keras.io/layers/recurrent/)"
   ]
  },
  {
   "cell_type": "markdown",
   "metadata": {},
   "source": [
    "In this exercise we will examine the outputs from simple untrained LSTM and GRU networks, in order to better understand the Keras API.\n",
    "\n",
    "There are four parts, and 12 short questions to answer as you run the code below:\n",
    "\n",
    "- LSTM: run with return_sequences=False\n",
    "- LSTM: run with return_sequences=True\n",
    "- GRU: run with return_sequences=False\n",
    "- GRU: run with return_sequences=True"
   ]
  },
  {
   "cell_type": "code",
   "execution_count": 45,
   "metadata": {},
   "outputs": [
    {
     "name": "stdout",
     "output_type": "stream",
     "text": [
      "[[[-1.29732544  0.88370345]\n",
      "  [ 0.96809361 -1.83162665]\n",
      "  [ 0.63462653 -0.29527256]\n",
      "  [-0.15880219  0.47193369]\n",
      "  [-1.28062212  1.16307752]\n",
      "  [-0.94114256 -0.97424082]\n",
      "  [ 0.795397    0.176578  ]\n",
      "  [-0.77534238  1.60992856]]]\n"
     ]
    }
   ],
   "source": [
    "from keras.models import Model\n",
    "from keras.layers import Input, LSTM, GRU\n",
    "import numpy as np\n",
    "\n",
    "timesteps = 8\n",
    "num_features = 2\n",
    "num_nodes = 3\n",
    "\n",
    "# Create some random data\n",
    "data = np.random.randn(1, timesteps, num_features)\n",
    "print(data)"
   ]
  },
  {
   "cell_type": "markdown",
   "metadata": {},
   "source": [
    "## Q1: What do the dimensions of the data represent? E.g., what do the 1st dimension, the 2nd, and the 3rd represent here?"
   ]
  },
  {
   "cell_type": "markdown",
   "metadata": {},
   "source": [
    "```np.random.randn``` return a sample from the normal distribution\n",
    "with the parameters 1, timesteps, numfeatures, it return one array of timesteps rows and numfeatures columns \n",
    "This means that we will observe 2 features at each time steps"
   ]
  },
  {
   "cell_type": "code",
   "execution_count": 46,
   "metadata": {},
   "outputs": [
    {
     "name": "stdout",
     "output_type": "stream",
     "text": [
      "_________________________________________________________________\n",
      "Layer (type)                 Output Shape              Param #   \n",
      "=================================================================\n",
      "input_19 (InputLayer)        (None, 8, 2)              0         \n",
      "_________________________________________________________________\n",
      "lstm_13 (LSTM)               [(None, 3), (None, 3), (N 72        \n",
      "=================================================================\n",
      "Total params: 72\n",
      "Trainable params: 72\n",
      "Non-trainable params: 0\n",
      "_________________________________________________________________\n"
     ]
    }
   ],
   "source": [
    "inputs = Input(shape=(timesteps, num_features))\n",
    "rnn = LSTM(num_nodes, return_state=True)\n",
    "x = rnn(inputs)\n",
    "\n",
    "model = Model(inputs=inputs, outputs=x)\n",
    "output, h, c = model.predict(data)\n",
    "model.summary()\n"
   ]
  },
  {
   "cell_type": "code",
   "execution_count": 47,
   "metadata": {},
   "outputs": [
    {
     "name": "stdout",
     "output_type": "stream",
     "text": [
      "output: [[-0.23299168 -0.12314837  0.12369747]]\n",
      "h: [[-0.23299168 -0.12314837  0.12369747]]\n",
      "c: [[-0.722294   -0.20794256  0.24609338]]\n"
     ]
    }
   ],
   "source": [
    "print(\"output:\", output)\n",
    "print(\"h:\", h)\n",
    "print(\"c:\", c)"
   ]
  },
  {
   "cell_type": "markdown",
   "metadata": {},
   "source": [
    "## Q2: What do these \"predict\" return values (output, h, and c) represent? Describe what they mean.\n",
    "\n"
   ]
  },
  {
   "cell_type": "markdown",
   "metadata": {},
   "source": [
    "```output``` represents the hidden state for the last time step \n",
    "\n",
    "```h``` represents the hidden state for the last time step \n",
    "\n",
    "```c``` represents the cell state for the last time step "
   ]
  },
  {
   "cell_type": "markdown",
   "metadata": {},
   "source": [
    "## Q3: What are the dimensions of output, h, and c?\n",
    "\n"
   ]
  },
  {
   "cell_type": "markdown",
   "metadata": {},
   "source": [
    "the dimension of ```output``` is a vector of the same dimension as the number of nodes\n",
    "\n",
    "the dimension of ```h``` is a vector of the same dimension as the number of nodes\n",
    "\n",
    "the dimension of ```c``` is a vector of the same dimension as the number of nodes"
   ]
  },
  {
   "cell_type": "code",
   "execution_count": 48,
   "metadata": {},
   "outputs": [
    {
     "data": {
      "text/plain": [
       "(1, 3)"
      ]
     },
     "execution_count": 48,
     "metadata": {},
     "output_type": "execute_result"
    }
   ],
   "source": [
    "output.shape"
   ]
  },
  {
   "cell_type": "code",
   "execution_count": 49,
   "metadata": {},
   "outputs": [
    {
     "data": {
      "text/plain": [
       "(1, 3)"
      ]
     },
     "execution_count": 49,
     "metadata": {},
     "output_type": "execute_result"
    }
   ],
   "source": [
    "h.shape"
   ]
  },
  {
   "cell_type": "code",
   "execution_count": 50,
   "metadata": {},
   "outputs": [
    {
     "data": {
      "text/plain": [
       "(1, 3)"
      ]
     },
     "execution_count": 50,
     "metadata": {},
     "output_type": "execute_result"
    }
   ],
   "source": [
    "c.shape"
   ]
  },
  {
   "cell_type": "markdown",
   "metadata": {},
   "source": [
    "## Q4: Is there any duplication among the values of (output, h, c)? If so, explain.\n",
    "\n"
   ]
  },
  {
   "cell_type": "markdown",
   "metadata": {},
   "source": [
    "In this particular case, ```output``` and ```h``` are the same\n",
    "\n",
    "```h``` and ```output``` are equal because we asked to return the last state with output and h return the last state"
   ]
  },
  {
   "cell_type": "markdown",
   "metadata": {},
   "source": [
    "## Q5: Change the LSTM to use \"return_state=False\" and modify the code accordingly to avoid errors. What does the LSTM return now?"
   ]
  },
  {
   "cell_type": "code",
   "execution_count": 62,
   "metadata": {},
   "outputs": [
    {
     "name": "stdout",
     "output_type": "stream",
     "text": [
      "_________________________________________________________________\n",
      "Layer (type)                 Output Shape              Param #   \n",
      "=================================================================\n",
      "input_27 (InputLayer)        (None, 8, 2)              0         \n",
      "_________________________________________________________________\n",
      "lstm_18 (LSTM)               (None, 3)                 72        \n",
      "=================================================================\n",
      "Total params: 72\n",
      "Trainable params: 72\n",
      "Non-trainable params: 0\n",
      "_________________________________________________________________\n"
     ]
    }
   ],
   "source": [
    "inputs = Input(shape=(timesteps, num_features))\n",
    "rnn = LSTM(num_nodes, return_state=False)\n",
    "x = rnn(inputs)\n",
    "\n",
    "model = Model(inputs=inputs, outputs=x)\n",
    "output = model.predict(data)\n",
    "model.summary()\n",
    "\n"
   ]
  },
  {
   "cell_type": "code",
   "execution_count": 52,
   "metadata": {},
   "outputs": [
    {
     "name": "stdout",
     "output_type": "stream",
     "text": [
      "output: [[-0.02160713 -0.0593508   0.10295806]]\n"
     ]
    }
   ],
   "source": [
    "print(\"output:\", output)\n",
    "\n"
   ]
  },
  {
   "cell_type": "markdown",
   "metadata": {},
   "source": [
    "output is 2D tensor with shape ```(batch_size,dimensionality of the output space == num nodes)```"
   ]
  },
  {
   "cell_type": "markdown",
   "metadata": {},
   "source": [
    "# LSTM: run with return_sequences=True"
   ]
  },
  {
   "cell_type": "code",
   "execution_count": 67,
   "metadata": {},
   "outputs": [
    {
     "name": "stdout",
     "output_type": "stream",
     "text": [
      "_________________________________________________________________\n",
      "Layer (type)                 Output Shape              Param #   \n",
      "=================================================================\n",
      "input_31 (InputLayer)        (None, 8, 2)              0         \n",
      "_________________________________________________________________\n",
      "lstm_21 (LSTM)               [(None, 8, 3), (None, 3), 72        \n",
      "=================================================================\n",
      "Total params: 72\n",
      "Trainable params: 72\n",
      "Non-trainable params: 0\n",
      "_________________________________________________________________\n"
     ]
    }
   ],
   "source": [
    "inputs = Input(shape=(timesteps, num_features))\n",
    "rnn = LSTM(num_nodes, return_state=True, return_sequences=True)\n",
    "x = rnn(inputs)\n",
    "\n",
    "model = Model(inputs=inputs, outputs=x)\n",
    "output, h, c = model.predict(data)\n",
    "\n",
    "model.summary()"
   ]
  },
  {
   "cell_type": "code",
   "execution_count": 68,
   "metadata": {},
   "outputs": [
    {
     "name": "stdout",
     "output_type": "stream",
     "text": [
      "output: [[[-0.03620154  0.26969242  0.03491046]\n",
      "  [ 0.08662518  0.00840403 -0.01776307]\n",
      "  [ 0.0494854  -0.10038266 -0.01998534]\n",
      "  [ 0.0010259   0.02087294  0.00434066]\n",
      "  [-0.06275047  0.2853172   0.03018308]\n",
      "  [ 0.11046072  0.16031958  0.06956935]\n",
      "  [ 0.00783136  0.05344884 -0.00707584]\n",
      "  [-0.0901691   0.26428902  0.00217168]]]\n",
      "h: [[-0.0901691   0.26428902  0.00217168]]\n",
      "c: [[-0.22954567  0.47477117  0.00665541]]\n"
     ]
    }
   ],
   "source": [
    "print(\"output:\", output)\n",
    "print(\"h:\", h)\n",
    "print(\"c:\", c)"
   ]
  },
  {
   "cell_type": "markdown",
   "metadata": {},
   "source": [
    "## Q6: Now, what are the dimensions of output, h, and c?\n"
   ]
  },
  {
   "cell_type": "code",
   "execution_count": 54,
   "metadata": {},
   "outputs": [
    {
     "data": {
      "text/plain": [
       "(1, 8, 3)"
      ]
     },
     "execution_count": 54,
     "metadata": {},
     "output_type": "execute_result"
    }
   ],
   "source": [
    "output.shape"
   ]
  },
  {
   "cell_type": "code",
   "execution_count": 55,
   "metadata": {},
   "outputs": [
    {
     "data": {
      "text/plain": [
       "(1, 3)"
      ]
     },
     "execution_count": 55,
     "metadata": {},
     "output_type": "execute_result"
    }
   ],
   "source": [
    "h.shape"
   ]
  },
  {
   "cell_type": "code",
   "execution_count": 56,
   "metadata": {},
   "outputs": [
    {
     "data": {
      "text/plain": [
       "(1, 3)"
      ]
     },
     "execution_count": 56,
     "metadata": {},
     "output_type": "execute_result"
    }
   ],
   "source": [
    "c.shape"
   ]
  },
  {
   "cell_type": "markdown",
   "metadata": {},
   "source": [
    "##  Q7: What does the output variable represent now? Explain the dimensions of the returned matrix (e.g., what does the 1st dimension represent? What does the 2nd represent? The 3rd? etc.)"
   ]
  },
  {
   "cell_type": "markdown",
   "metadata": {},
   "source": [
    "```output``` is a 3D tensor with ```(batch_size, timesteps, dimensionality of the output space)```\n",
    "\n",
    "```h``` & ```c``` are state tensors"
   ]
  },
  {
   "cell_type": "markdown",
   "metadata": {},
   "source": [
    "# GRU"
   ]
  },
  {
   "cell_type": "code",
   "execution_count": 69,
   "metadata": {},
   "outputs": [
    {
     "name": "stdout",
     "output_type": "stream",
     "text": [
      "_________________________________________________________________\n",
      "Layer (type)                 Output Shape              Param #   \n",
      "=================================================================\n",
      "input_32 (InputLayer)        (None, 8, 2)              0         \n",
      "_________________________________________________________________\n",
      "gru_10 (GRU)                 [(None, 3), (None, 3)]    54        \n",
      "=================================================================\n",
      "Total params: 54\n",
      "Trainable params: 54\n",
      "Non-trainable params: 0\n",
      "_________________________________________________________________\n"
     ]
    }
   ],
   "source": [
    "inputs = Input(shape=(timesteps, num_features))\n",
    "rnn = GRU(num_nodes, return_state=True)\n",
    "x = rnn(inputs)\n",
    "model = Model(inputs=inputs, outputs=x)\n",
    "output, h = model.predict(data)\n",
    "\n",
    "model.summary()"
   ]
  },
  {
   "cell_type": "code",
   "execution_count": 70,
   "metadata": {},
   "outputs": [
    {
     "name": "stdout",
     "output_type": "stream",
     "text": [
      "o: [[0.09062721 0.10693793 0.02225437]]\n",
      "h: [[0.09062721 0.10693793 0.02225437]]\n"
     ]
    }
   ],
   "source": [
    "print(\"o:\", output)\n",
    "print(\"h:\", h)"
   ]
  },
  {
   "cell_type": "markdown",
   "metadata": {},
   "source": [
    "## Q8: What happened to the variable \"c\"? Why does the GRU only return a tuple of 2 values as opposed to 3?\n",
    "\n",
    "\n",
    "\n",
    " \n",
    "\n"
   ]
  },
  {
   "cell_type": "markdown",
   "metadata": {},
   "source": [
    "- [Illustrated Guide to LSTM’s and GRU’s: A step by step explanation](https://towardsdatascience.com/illustrated-guide-to-lstms-and-gru-s-a-step-by-step-explanation-44e9eb85bf21)\n",
    "\n",
    "there is only hidden state in GRU cell."
   ]
  },
  {
   "cell_type": "markdown",
   "metadata": {},
   "source": [
    "![title](./1*yBXV9o5q7L_CvY7quJt3WQ.png)"
   ]
  },
  {
   "cell_type": "markdown",
   "metadata": {},
   "source": [
    "## Q9: What are the dimension of output and h?"
   ]
  },
  {
   "cell_type": "code",
   "execution_count": 71,
   "metadata": {},
   "outputs": [
    {
     "data": {
      "text/plain": [
       "(1, 3)"
      ]
     },
     "execution_count": 71,
     "metadata": {},
     "output_type": "execute_result"
    }
   ],
   "source": [
    "output.shape"
   ]
  },
  {
   "cell_type": "code",
   "execution_count": 72,
   "metadata": {},
   "outputs": [
    {
     "data": {
      "text/plain": [
       "(1, 3)"
      ]
     },
     "execution_count": 72,
     "metadata": {},
     "output_type": "execute_result"
    }
   ],
   "source": [
    "h.shape"
   ]
  },
  {
   "cell_type": "markdown",
   "metadata": {},
   "source": [
    "## Q10: Is there any duplication between the values of output and h? If so, explain."
   ]
  },
  {
   "cell_type": "code",
   "execution_count": 73,
   "metadata": {},
   "outputs": [],
   "source": [
    "np.testing.assert_array_equal(output, h)"
   ]
  },
  {
   "cell_type": "markdown",
   "metadata": {},
   "source": [
    "```h``` and ```output``` are equal because we asked to return the last state with output and h return the last state"
   ]
  },
  {
   "cell_type": "code",
   "execution_count": 79,
   "metadata": {},
   "outputs": [
    {
     "name": "stdout",
     "output_type": "stream",
     "text": [
      "o: [[[-0.3345641  -0.01846615  0.49711123]\n",
      "  [ 0.5451222  -0.4379254   0.24848235]\n",
      "  [ 0.5874258  -0.12496339 -0.01109824]\n",
      "  [ 0.18641673  0.05660372  0.15563084]\n",
      "  [-0.23902743  0.11323315  0.6097513 ]\n",
      "  [-0.17114875 -0.3527349   0.06730883]\n",
      "  [ 0.21735635  0.05933596  0.04711872]\n",
      "  [-0.24374607  0.2575965   0.6487629 ]]]\n",
      "h: [[-0.24374607  0.2575965   0.6487629 ]]\n"
     ]
    }
   ],
   "source": [
    "inputs = Input(shape=(timesteps, num_features))\n",
    "rnn = GRU(num_nodes, return_state=True, return_sequences=True)\n",
    "x = rnn(inputs)\n",
    "model = Model(inputs=inputs, outputs=x)\n",
    "output, h = model.predict(data)\n",
    "\n",
    "print(\"o:\", output)\n",
    "print(\"h:\", h)"
   ]
  },
  {
   "cell_type": "markdown",
   "metadata": {},
   "source": [
    "## Q11: Now, what are the dimensions of output and h?\n",
    "\n"
   ]
  },
  {
   "cell_type": "code",
   "execution_count": 80,
   "metadata": {},
   "outputs": [
    {
     "data": {
      "text/plain": [
       "(1, 8, 3)"
      ]
     },
     "execution_count": 80,
     "metadata": {},
     "output_type": "execute_result"
    }
   ],
   "source": [
    "output.shape"
   ]
  },
  {
   "cell_type": "code",
   "execution_count": 81,
   "metadata": {},
   "outputs": [
    {
     "data": {
      "text/plain": [
       "(1, 3)"
      ]
     },
     "execution_count": 81,
     "metadata": {},
     "output_type": "execute_result"
    }
   ],
   "source": [
    "h.shape"
   ]
  },
  {
   "cell_type": "markdown",
   "metadata": {},
   "source": [
    "## Q12: Is there any duplication within the values of output and h? If so, explain. "
   ]
  },
  {
   "cell_type": "markdown",
   "metadata": {},
   "source": [
    "```h``` and ```output``` are not equal we return as output return a sequence of state, only the last row of output is equal to ```h```"
   ]
  },
  {
   "cell_type": "code",
   "execution_count": 84,
   "metadata": {},
   "outputs": [
    {
     "data": {
      "text/plain": [
       "array([-0.24374607,  0.2575965 ,  0.6487629 ], dtype=float32)"
      ]
     },
     "execution_count": 84,
     "metadata": {},
     "output_type": "execute_result"
    }
   ],
   "source": [
    "output[0][-1]"
   ]
  },
  {
   "cell_type": "code",
   "execution_count": 85,
   "metadata": {},
   "outputs": [],
   "source": [
    "np.testing.assert_array_equal(output[0][-1], h[0])"
   ]
  },
  {
   "cell_type": "code",
   "execution_count": null,
   "metadata": {},
   "outputs": [],
   "source": []
  }
 ],
 "metadata": {
  "kernelspec": {
   "display_name": "Python 3",
   "language": "python",
   "name": "python3"
  },
  "language_info": {
   "codemirror_mode": {
    "name": "ipython",
    "version": 3
   },
   "file_extension": ".py",
   "mimetype": "text/x-python",
   "name": "python",
   "nbconvert_exporter": "python",
   "pygments_lexer": "ipython3",
   "version": "3.7.3"
  }
 },
 "nbformat": 4,
 "nbformat_minor": 2
}
