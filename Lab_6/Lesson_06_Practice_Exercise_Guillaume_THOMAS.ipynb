{
 "cells": [
  {
   "cell_type": "markdown",
   "metadata": {},
   "source": [
    "# Lesson 6 Practice Exercise\n",
    "\n",
    "## Start\n"
   ]
  },
  {
   "cell_type": "markdown",
   "metadata": {},
   "source": [
    "- [Assignment](https://canvas.uw.edu/courses/1260524/assignments/4656100?module_item_id=9186173)\n",
    "- [LSTM Tutorial](https://adventuresinmachinelearning.com/keras-lstm-tutorial/)\n",
    "- [Understand the Difference Between Return Sequences and Return States for LSTMs in Keras](https://machinelearningmastery.com/return-sequences-and-return-states-for-lstms-in-keras/)\n",
    "- [MIT Deep Learning Book](https://www.deeplearningbook.org/)\n",
    "- [KERAS LSTM](https://keras.io/layers/recurrent/)"
   ]
  },
  {
   "cell_type": "code",
   "execution_count": 25,
   "metadata": {},
   "outputs": [
    {
     "name": "stdout",
     "output_type": "stream",
     "text": [
      "[[[ 0.17462766 -0.92567869]\n",
      "  [-0.65052345  0.10157572]\n",
      "  [-0.85950322  0.24404285]\n",
      "  [-1.41132314  0.46512797]\n",
      "  [-1.30753876  1.59086708]\n",
      "  [ 0.24468414  1.78127748]\n",
      "  [-1.61193248 -0.92883158]\n",
      "  [-0.28950088 -0.36427538]]]\n"
     ]
    }
   ],
   "source": [
    "from keras.models import Model\n",
    "from keras.layers import Input, LSTM, GRU\n",
    "import numpy as np\n",
    "\n",
    "timesteps = 8\n",
    "num_features = 2\n",
    "num_nodes = 3\n",
    "\n",
    "# Create some random data\n",
    "data = np.random.randn(1, timesteps, num_features)\n",
    "print(data)"
   ]
  },
  {
   "cell_type": "markdown",
   "metadata": {},
   "source": [
    "## Q1: What do the dimensions of the data represent? E.g., what do the 1st dimension, the 2nd, and the 3rd represent here?"
   ]
  },
  {
   "cell_type": "markdown",
   "metadata": {},
   "source": [
    "```np.random.randn``` return a sample from the normal distribution\n",
    "with the parameters 1, timesteps, numfeatures, it return one array of timesteps rows and numfeatures columns \n",
    "This means that we will observe 2 features at each time steps"
   ]
  },
  {
   "cell_type": "code",
   "execution_count": 21,
   "metadata": {},
   "outputs": [
    {
     "name": "stdout",
     "output_type": "stream",
     "text": [
      "output: [[ 0.30340108 -0.02182508  0.01595481]]\n",
      "h: [[ 0.30340108 -0.02182508  0.01595481]]\n",
      "c: [[ 0.48878998 -0.04866165  0.05372298]]\n"
     ]
    }
   ],
   "source": [
    "inputs = Input(shape=(timesteps, num_features))\n",
    "rnn = LSTM(num_nodes, return_state=True)\n",
    "x = rnn(inputs)\n",
    "\n",
    "model = Model(inputs=inputs, outputs=x)\n",
    "output, h, c = model.predict(data)\n",
    "\n",
    "print(\"output:\", output)\n",
    "print(\"h:\", h)\n",
    "print(\"c:\", c)"
   ]
  },
  {
   "cell_type": "markdown",
   "metadata": {},
   "source": [
    "## Q2: What do these \"predict\" return values (output, h, and c) represent? Describe what they mean.\n",
    "\n"
   ]
  },
  {
   "cell_type": "markdown",
   "metadata": {},
   "source": [
    "```output``` represents the hidden state for the last time step \n",
    "\n",
    "```h``` represents the hidden state for the last time step \n",
    "\n",
    "```c``` represents the cell state for the last time step "
   ]
  },
  {
   "cell_type": "markdown",
   "metadata": {},
   "source": [
    "## Q3: What are the dimensions of output, h, and c?\n",
    "\n"
   ]
  },
  {
   "cell_type": "markdown",
   "metadata": {},
   "source": [
    "the dimension of ```output``` is a vector of the same dimension as the number of nodes\n",
    "\n",
    "the dimension of ```h``` is a vector of the same dimension as the number of nodes\n",
    "\n",
    "the dimension of ```c``` is a vector of the same dimension as the number of nodes"
   ]
  },
  {
   "cell_type": "markdown",
   "metadata": {},
   "source": [
    "## Q4: Is there any duplication among the values of (output, h, c)? If so, explain.\n",
    "\n"
   ]
  },
  {
   "cell_type": "markdown",
   "metadata": {},
   "source": [
    "In this particular case, ```output``` and ```h``` are the same"
   ]
  },
  {
   "cell_type": "markdown",
   "metadata": {},
   "source": [
    "## Q5: Change the LSTM to use \"return_state=False\" and modify the code accordingly to avoid errors. What does the LSTM return now?"
   ]
  },
  {
   "cell_type": "code",
   "execution_count": 22,
   "metadata": {},
   "outputs": [
    {
     "name": "stdout",
     "output_type": "stream",
     "text": [
      "output: [[[-0.10392016  0.00788214 -0.05634788]\n",
      "  [-0.00842382 -0.02919971  0.00064112]\n",
      "  [ 0.09601593 -0.03341671  0.06656042]\n",
      "  [ 0.00259915 -0.00714997 -0.00404387]\n",
      "  [ 0.23388243 -0.01044396  0.07503767]\n",
      "  [ 0.18487996  0.01161234  0.10406002]\n",
      "  [ 0.34996822  0.03541033  0.13783318]\n",
      "  [ 0.07637344  0.05555646 -0.14589013]]]\n",
      "h: [[ 0.07637344  0.05555646 -0.14589013]]\n",
      "c: [[ 0.14130604  0.25121632 -0.22767267]]\n"
     ]
    }
   ],
   "source": [
    "inputs = Input(shape=(timesteps, num_features))\n",
    "rnn = LSTM(num_nodes, return_state=True, return_sequences=True)\n",
    "x = rnn(inputs)\n",
    "\n",
    "model = Model(inputs=inputs, outputs=x)\n",
    "output, h, c = model.predict(data)\n",
    "\n",
    "print(\"output:\", output)\n",
    "print(\"h:\", h)\n",
    "print(\"c:\", c)"
   ]
  },
  {
   "cell_type": "code",
   "execution_count": null,
   "metadata": {},
   "outputs": [],
   "source": []
  },
  {
   "cell_type": "markdown",
   "metadata": {},
   "source": [
    "## Q6: Now, what are the dimensions of output, h, and c?\n"
   ]
  },
  {
   "cell_type": "code",
   "execution_count": null,
   "metadata": {},
   "outputs": [],
   "source": []
  },
  {
   "cell_type": "markdown",
   "metadata": {},
   "source": [
    "##  Q7: What does the output variable represent now? Explain the dimensions of the returned matrix (e.g., what does the 1st dimension represent? What does the 2nd represent? The 3rd? etc.)"
   ]
  },
  {
   "cell_type": "code",
   "execution_count": 23,
   "metadata": {},
   "outputs": [
    {
     "name": "stdout",
     "output_type": "stream",
     "text": [
      "o: [[0.12989618 0.07255637 0.48050374]]\n",
      "h: [[0.12989618 0.07255637 0.48050374]]\n"
     ]
    }
   ],
   "source": [
    "inputs = Input(shape=(timesteps, num_features))\n",
    "rnn = GRU(num_nodes, return_state=True)\n",
    "x = rnn(inputs)\n",
    "model = Model(inputs=inputs, outputs=x)\n",
    "output, h = model.predict(data)\n",
    "\n",
    "print(\"o:\", output)\n",
    "print(\"h:\", h)"
   ]
  },
  {
   "cell_type": "markdown",
   "metadata": {},
   "source": [
    "## Q8: What happened to the variable \"c\"? Why does the GRU only return a tuple of 2 values as opposed to 3?\n",
    "\n",
    "\n",
    "\n",
    " \n",
    "\n"
   ]
  },
  {
   "cell_type": "code",
   "execution_count": null,
   "metadata": {},
   "outputs": [],
   "source": []
  },
  {
   "cell_type": "markdown",
   "metadata": {},
   "source": [
    "## Q9: What are the dimension of output and h?"
   ]
  },
  {
   "cell_type": "code",
   "execution_count": null,
   "metadata": {},
   "outputs": [],
   "source": []
  },
  {
   "cell_type": "markdown",
   "metadata": {},
   "source": [
    "## Q10: Is there any duplication between the values of output and h? If so, explain."
   ]
  },
  {
   "cell_type": "code",
   "execution_count": 24,
   "metadata": {},
   "outputs": [
    {
     "name": "stdout",
     "output_type": "stream",
     "text": [
      "o: [[[ 0.05947458  0.14367878 -0.0625222 ]\n",
      "  [ 0.2650104  -0.5001869   0.15283206]\n",
      "  [ 0.07584788 -0.50175714  0.1920328 ]\n",
      "  [ 0.31399244 -0.43849233  0.20544109]\n",
      "  [-0.10257311 -0.28285685  0.08623705]\n",
      "  [ 0.00861287 -0.44242558  0.19347444]\n",
      "  [-0.25936615 -0.22612503  0.06639826]\n",
      "  [ 0.42000502  0.3223763  -0.07728104]]]\n",
      "h: [[ 0.42000502  0.3223763  -0.07728104]]\n"
     ]
    }
   ],
   "source": [
    "inputs = Input(shape=(timesteps, num_features))\n",
    "rnn = GRU(num_nodes, return_state=True, return_sequences=True)\n",
    "x = rnn(inputs)\n",
    "model = Model(inputs=inputs, outputs=x)\n",
    "output, h = model.predict(data)\n",
    "\n",
    "print(\"o:\", output)\n",
    "print(\"h:\", h)"
   ]
  },
  {
   "cell_type": "markdown",
   "metadata": {},
   "source": [
    "## Q11: Now, what are the dimensions of output and h?\n",
    "\n"
   ]
  },
  {
   "cell_type": "code",
   "execution_count": null,
   "metadata": {},
   "outputs": [],
   "source": []
  },
  {
   "cell_type": "markdown",
   "metadata": {},
   "source": [
    "## Q12: Is there any duplication within the values of output and h? If so, explain. "
   ]
  }
 ],
 "metadata": {
  "kernelspec": {
   "display_name": "Python 3",
   "language": "python",
   "name": "python3"
  },
  "language_info": {
   "codemirror_mode": {
    "name": "ipython",
    "version": 3
   },
   "file_extension": ".py",
   "mimetype": "text/x-python",
   "name": "python",
   "nbconvert_exporter": "python",
   "pygments_lexer": "ipython3",
   "version": "3.7.3"
  }
 },
 "nbformat": 4,
 "nbformat_minor": 2
}
