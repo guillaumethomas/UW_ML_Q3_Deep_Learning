{
 "cells": [
  {
   "cell_type": "markdown",
   "metadata": {
    "nbgrader": {
     "grade": false,
     "locked": false,
     "solution": false
    }
   },
   "source": [
    "# Goals of this Activity\n",
    "\n",
    "\n",
    "## 1. Implement convolution\n",
    "Given an n,m RGB image as a numpy array and a k x k x 3 convolution filter. Implement the\n",
    "convolution operation with ‘same’ padding without using higher level functions like conv2d from tensorflow, or convolve from numpy. "
   ]
  },
  {
   "cell_type": "markdown",
   "metadata": {},
   "source": [
    "- [Theano Convulation Arithmetic](http://deeplearning.net/software/theano/tutorial/conv_arithmetic.html)\n",
    "- [Machine learning guru](http://machinelearninguru.com/computer_vision/basics/convolution/image_convolution_1.html)\n",
    "- [Kernel Image Processing Wiki](https://en.wikipedia.org/wiki/Kernel_(image_processing))\n",
    "- [CNN Standford](http://cs231n.github.io/convolutional-networks/#pool) \n",
    "\n"
   ]
  },
  {
   "cell_type": "code",
   "execution_count": 1,
   "metadata": {},
   "outputs": [
    {
     "name": "stdout",
     "output_type": "stream",
     "text": [
      "[[11 10  7  4]\n",
      " [10  3 11 11]\n",
      " [15 12 14  7]\n",
      " [12  3  7  0]]\n"
     ]
    }
   ],
   "source": [
    "import numpy as np \n",
    "\n",
    "def isSquare (m): return all (len (row) == len (m) for row in m)\n",
    "\n",
    "def padding(image, kernel):\n",
    "    '''\n",
    "    Pad the matrix with zero all room \n",
    "    '''\n",
    "    if isSquare(kernel):\n",
    "        pad = int((len(kernel) - 1) / 2)\n",
    "\n",
    "        # padding the image\n",
    "        width_im = len(im[0])\n",
    "        zero = [0] * (width_im + 2 * pad)\n",
    "        pad_im = [zero] * pad\n",
    "\n",
    "        pad_lst = [0] * pad\n",
    "\n",
    "        for row in im:\n",
    "            tmp = [0] * pad\n",
    "            tmp.extend(row)\n",
    "            tmp.extend([0] * pad)\n",
    "            pad_im.append(tmp)\n",
    "\n",
    "        pad_im.extend([zero] * pad)\n",
    "        pad_im = np.array(pad_im)\n",
    "    return pad_im\n",
    "\n",
    "def reverting_ker(kernel):\n",
    "    '''\n",
    "    revert the kernel matrix \n",
    "    '''\n",
    "    lst = []\n",
    "    for row in kernel[::-1]:\n",
    "        lst.append(row[::-1])\n",
    "    return(np.array(lst))\n",
    "\n",
    "def helper(a,b):\n",
    "    '''\n",
    "    a and b must be the same size\n",
    "    return the convolution result for a sub matrix \n",
    "    '''\n",
    "    return sum([i * j for i, j in zip(a.flatten(), b.flatten())])\n",
    "\n",
    "def sub(mat, kernel):\n",
    "    '''\n",
    "    generate the result of the convolution with the kernel filter \n",
    "    k is the size of the square sub matrix\n",
    "    \n",
    "    '''\n",
    "    k = len(kernel)\n",
    "    m = len(mat)\n",
    "    n = len(mat[0])\n",
    "    \n",
    "    i = 0\n",
    "    j = 0\n",
    "    res = []\n",
    "    final = []\n",
    "    \n",
    "    while i + k <= m:\n",
    "        while j + k <= n:\n",
    "            tmp = mat[i:i+k, j:j+k]\n",
    "            res.append(helper(tmp, kernel))\n",
    "            j += 1\n",
    "            \n",
    "        final.append(res)\n",
    "        res = []\n",
    "        j = 0\n",
    "        i += 1\n",
    "    \n",
    "    final = np.array(final)\n",
    "    return final\n",
    "\n",
    "def convolve(image, kernel):\n",
    "    \n",
    "    pad_im = padding(image, kernel)\n",
    "    kernel = reverting_ker(kernel)\n",
    "    \n",
    "    return sub(pad_im, kernel)\n",
    "    \n",
    "\n",
    "\n",
    "im = np.array([[1, 2, 0, 0], [5, 3, 0, 4], [0, 0, 0, 7], [9, 3, 0, 0]])\n",
    "kernel = np.array([[1,1,1],[1,1,0],[1,0,0]])\n",
    "\n",
    "result = convolve(im, kernel)\n",
    "print(result)"
   ]
  },
  {
   "cell_type": "code",
   "execution_count": 2,
   "metadata": {},
   "outputs": [
    {
     "name": "stdout",
     "output_type": "stream",
     "text": [
      "[[11 10  7  4]\n",
      " [10  3 11 11]\n",
      " [15 12 14  7]\n",
      " [12  3  7  0]]\n"
     ]
    }
   ],
   "source": [
    "import numpy as np\n",
    "from scipy.signal import convolve2d \n",
    "res = convolve2d(im, kernel,mode='same')\n",
    "print(res)\n"
   ]
  },
  {
   "cell_type": "code",
   "execution_count": 3,
   "metadata": {},
   "outputs": [],
   "source": [
    "# Check if the result is the same as the one generated with an high level function\n",
    "np.testing.assert_array_equal(res, result)"
   ]
  },
  {
   "cell_type": "markdown",
   "metadata": {
    "nbgrader": {
     "grade": false,
     "locked": true,
     "solution": false
    }
   },
   "source": [
    "## 2. Implement max_pool \n",
    "Given a grayscale image as a numpy array. We are also given a k by k max pooling filter with a stride of 1. Implement the max_pool operation without using higher level functions like block_reduce."
   ]
  },
  {
   "cell_type": "code",
   "execution_count": 13,
   "metadata": {},
   "outputs": [],
   "source": [
    "import numpy as np \n",
    "\n",
    "def max_pool(image, k):\n",
    "    \n",
    "    m = len(image)\n",
    "    n = len(image[0])\n",
    "    \n",
    "    i = 0\n",
    "    j = 0\n",
    "    res = []\n",
    "    final = []\n",
    "    \n",
    "    while i + k <= m:\n",
    "        while j + k <= n:\n",
    "            tmp = image[i:i+k, j:j+k]\n",
    "            res.append(np.max(tmp))\n",
    "            j += k\n",
    "            \n",
    "        final.append(res)\n",
    "        res = []\n",
    "        j = 0\n",
    "        i += k\n",
    "    \n",
    "    final = np.array(final)\n",
    "    return final\n",
    "\n",
    "im = np.array([[1, 2, 0, 0], [5, 3, 0, 4], [0, 0, 0, 7], [9, 3, 0, 0]])\n",
    "k = 2\n",
    "\n"
   ]
  },
  {
   "cell_type": "code",
   "execution_count": 14,
   "metadata": {},
   "outputs": [
    {
     "name": "stdout",
     "output_type": "stream",
     "text": [
      "[[1 2 0 0]\n",
      " [5 3 0 4]\n",
      " [0 0 0 7]\n",
      " [9 3 0 0]]\n"
     ]
    }
   ],
   "source": [
    "print(im)"
   ]
  },
  {
   "cell_type": "code",
   "execution_count": 15,
   "metadata": {},
   "outputs": [
    {
     "name": "stdout",
     "output_type": "stream",
     "text": [
      "[[5 4]\n",
      " [9 7]]\n"
     ]
    }
   ],
   "source": [
    "result = max_pool(im, k)\n",
    "print(result)"
   ]
  },
  {
   "cell_type": "code",
   "execution_count": 16,
   "metadata": {},
   "outputs": [
    {
     "name": "stdout",
     "output_type": "stream",
     "text": [
      "[[5 4]\n",
      " [9 7]]\n"
     ]
    }
   ],
   "source": [
    "import skimage.measure\n",
    "res = skimage.measure.block_reduce(im, (k,k), np.max)\n",
    "print(res)"
   ]
  },
  {
   "cell_type": "code",
   "execution_count": 17,
   "metadata": {},
   "outputs": [],
   "source": [
    "np.testing.assert_array_equal(res, result)"
   ]
  },
  {
   "cell_type": "code",
   "execution_count": null,
   "metadata": {},
   "outputs": [],
   "source": []
  }
 ],
 "metadata": {
  "kernelspec": {
   "display_name": "Python 3",
   "language": "python",
   "name": "python3"
  },
  "language_info": {
   "codemirror_mode": {
    "name": "ipython",
    "version": 3
   },
   "file_extension": ".py",
   "mimetype": "text/x-python",
   "name": "python",
   "nbconvert_exporter": "python",
   "pygments_lexer": "ipython3",
   "version": "3.7.3"
  }
 },
 "nbformat": 4,
 "nbformat_minor": 2
}
