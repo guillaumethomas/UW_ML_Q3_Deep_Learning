{
 "cells": [
  {
   "cell_type": "markdown",
   "metadata": {},
   "source": [
    "# Homework 8\n",
    "\n",
    "## CSCI E-82A\n",
    "\n",
    "\n",
    "In the a previous homework assignments, you used two different dynamic programming algorithms and Monte Carlo reinforcement learning to solve a robot navigation problem by finding optimal paths to a goal in a simplified warehouse environment. Now you will use time differencing reinforcement learning to find optimal paths in the same environment."
   ]
  },
  {
   "cell_type": "markdown",
   "metadata": {},
   "source": [
    "The configuration of the warehouse environment is illustrated in the figure below.\n",
    "\n",
    "<img src=\"GridWorldFactory.JPG\" alt=\"Drawing\" style=\"width:200px; height:200px\"/>\n",
    "<center> **Grid World for Factory Navigation Example** </center>\n",
    "\n",
    "The goal is for the robot to deliver some material to position (state) 12, shown in blue. Since there is a goal state or **terminal state** this an **episodic task**. \n",
    "\n",
    "There are some barriers comprised of the states $\\{ 6, 7, 8 \\}$ and $\\{ 16, 17, 18 \\}$, shown with hash marks. In a real warehouse, these positions might be occupied by shelving or equipment. We do not want the robot to hit these barriers. Thus, we say that transitioning to these barrier states is **taboo**.\n",
    "\n",
    "As before, we do not want the robot to hit the edges of the grid world, which represent the outer walls of the warehouse. \n",
    "\n",
    "## Representation\n",
    "\n",
    "You are, no doubt, familiar with the representation for this problem by now.    \n",
    "\n",
    "As with many such problems, the starting place is creating the **representation**. In the cell below encode your representation for the possible action-state transitions. From each state there are 4 possible actions:\n",
    "- up, u\n",
    "- down, d,\n",
    "- left, l\n",
    "- right, r\n",
    "\n",
    "There are a few special cases you need to consider:\n",
    "- Any action transitioning state off the grid or into a barrier should keep the state unchanged. \n",
    "- Any action in the goal state keeps the state unchanged. \n",
    "- Any transition within the taboo (barrier) states can keep the state unchanged. If you experiment, you will see that other encodings work as well since the value of a barrier states are always zero and there are no actions transitioning into these states. \n",
    "\n",
    "> **Hint:** It may help you create a pencil and paper sketch of the transitions, rewards, and probabilities or policy. This can help you to keep the bookkeeping correct. "
   ]
  },
  {
   "cell_type": "code",
   "execution_count": 395,
   "metadata": {},
   "outputs": [],
   "source": [
    "## import numpy for latter\n",
    "import numpy as np\n",
    "import numpy.random as nr\n",
    "import pandas as pd\n"
   ]
  },
  {
   "cell_type": "markdown",
   "metadata": {},
   "source": [
    "## Reference\n",
    "\n",
    "- [TD in RL](https://towardsdatascience.com/td-in-reinforcement-learning-the-easy-way-f92ecfa9f3ce)"
   ]
  },
  {
   "cell_type": "markdown",
   "metadata": {},
   "source": [
    "**please note that I spoke to Danka and she helps me on the GPI algo as I was having a index issue**"
   ]
  },
  {
   "cell_type": "markdown",
   "metadata": {},
   "source": [
    "You need to define the initial transition probabilities for the Markov process. Set the probabilities for each transition as a **uniform distribution** leading to random action by the robot. \n",
    "\n",
    "> **Note:** As these are just starting values, the exact values of the transition probabilities are not actually all that important in terms of solving the RL problem. Also, notice that it does not matter how the taboo state transitions are encoded. The point of the DP algorithm is to learn the transition policy."
   ]
  },
  {
   "cell_type": "code",
   "execution_count": 396,
   "metadata": {},
   "outputs": [],
   "source": [
    "neighbors = {0:{'u':0, 'd':5, 'l':0, 'r':1},\n",
    "          1:{'u':1, 'd':1, 'l':0, 'r':2},\n",
    "          2:{'u':2, 'd':2, 'l':1, 'r':3},\n",
    "          3:{'u':3, 'd':3, 'l':2, 'r':4},\n",
    "          4:{'u':4, 'd':9, 'l':3, 'r':4},\n",
    "          5:{'u':0, 'd':10, 'l':5, 'r':5},\n",
    "          6:{'u':6, 'd':6, 'l':6, 'r':6},\n",
    "          7:{'u':7, 'd':7, 'l':7, 'r':7},\n",
    "          8:{'u':8, 'd':8, 'l':8, 'r':8},\n",
    "          9:{'u':4, 'd':14, 'l':9, 'r':9},\n",
    "          10:{'u':5, 'd':15, 'l':10, 'r':11},\n",
    "          11:{'u':11, 'd':11, 'l':10, 'r':12},\n",
    "          12:{'u':12, 'd':12, 'l':12, 'r':12},\n",
    "          13:{'u':13, 'd':13, 'l':12, 'r':14},\n",
    "          14:{'u':9, 'd':19, 'l':13, 'r':14},\n",
    "          15:{'u':10, 'd':20, 'l':15, 'r':15},\n",
    "          16:{'u':16, 'd':16, 'l':16, 'r':16},\n",
    "          17:{'u':17, 'd':17, 'l':17, 'r':17},\n",
    "          18:{'u':18, 'd':18, 'l':18, 'r':18},\n",
    "          19:{'u':14, 'd':24, 'l':19, 'r':19},\n",
    "          20:{'u':15, 'd':20, 'l':20, 'r':21},\n",
    "          21:{'u':21, 'd':21, 'l':20, 'r':22},\n",
    "          22:{'u':22, 'd':22, 'l':21, 'r':23},\n",
    "          23:{'u':23, 'd':23, 'l':22, 'r':24},\n",
    "          24:{'u':19, 'd':24, 'l':23, 'r':24}}"
   ]
  },
  {
   "cell_type": "markdown",
   "metadata": {},
   "source": [
    "The robot receives the following rewards:\n",
    "- 10 for entering position 0. \n",
    "- -1 for attempting to leave the grid. In other words, we penalize the robot for hitting the edges of the grid.  \n",
    "- -0.1 for all other state transitions, which is the cost for the robot to move from one state to another. If we did not have this penalty, the robot could follow any random plan to the goal which did not hit the edges. \n",
    "\n",
    "This **reward structure is unknown to the MC RL agent**. The agent must **learn** the rewards by sampling the environment. \n",
    "\n",
    "In the code cell below encode your representation of this reward structure you will use in your simulated environment.  "
   ]
  },
  {
   "cell_type": "code",
   "execution_count": 397,
   "metadata": {},
   "outputs": [],
   "source": [
    "rewards =  {0:{'u':-1, 'd':-0.1, 'l':-1, 'r':-0.1},\n",
    "          1:{'u':-1, 'd':-1, 'l':-0.1, 'r':-0.1},\n",
    "          2:{'u':-1, 'd':-1, 'l':-0.1, 'r':-0.1},\n",
    "          3:{'u':-1, 'd':-1, 'l':-0.1, 'r':-0.1},\n",
    "          4:{'u':-1, 'd':-0.1, 'l':-0.1, 'r':-1},\n",
    "          5:{'u':-0.1, 'd':-0.1, 'l':-1, 'r':-1},\n",
    "          6:{'u':-1, 'd':-1, 'l':-1, 'r':-1},\n",
    "          7:{'u':-1, 'd':-1, 'l':-1, 'r':-1},\n",
    "          8:{'u':-1, 'd':-1, 'l':-1, 'r':-1},\n",
    "          9:{'u':-0.1, 'd':-0.1, 'l':-1, 'r':-1},\n",
    "          10:{'u':-0.1, 'd':-0.1, 'l':-1, 'r':-0.1},\n",
    "          11:{'u':-1, 'd':-1, 'l':-0.1, 'r':10},\n",
    "          12:{'u':10.0, 'd':10.0, 'l':10.0, 'r':10.0}, # 12:{'u':0.0, 'd':0.0, 'l':0.0, 'r':0.0}\n",
    "          13:{'u':-1, 'd':-1, 'l':10, 'r':-0.1},\n",
    "          14:{'u':-0.1, 'd':-0.1, 'l':-0.1, 'r':-1},\n",
    "          15:{'u':-0.1, 'd':-0.1, 'l':-1, 'r':-1},\n",
    "          16:{'u':-1, 'd':-1, 'l':-1, 'r':-1},\n",
    "          17:{'u':-1, 'd':-1, 'l':-1, 'r':-1},\n",
    "          18:{'u':-0.1, 'd':-0.1, 'l':-0.1, 'r':-0.1},\n",
    "          19:{'u':-0.1, 'd':-0.1, 'l':-1, 'r':-1},\n",
    "          20:{'u':-0.1, 'd':-1, 'l':-1, 'r':-0.1},\n",
    "          21:{'u':-1, 'd':-1, 'l':-0.1, 'r':-0.1},\n",
    "          22:{'u':-1, 'd':-1, 'l':-0.1, 'r':-0.1},\n",
    "          23:{'u':-1, 'd':-1, 'l':-0.1, 'r':-0.1},\n",
    "          24:{'u':-0.1, 'd':-1, 'l':-0.1, 'r':-1}}"
   ]
  },
  {
   "cell_type": "markdown",
   "metadata": {},
   "source": [
    "You will find it useful to create a list of taboo states, which you can encode in the cell below."
   ]
  },
  {
   "cell_type": "code",
   "execution_count": 398,
   "metadata": {},
   "outputs": [],
   "source": [
    "taboos = [6, 7, 8, 16, 17, 18]"
   ]
  },
  {
   "cell_type": "markdown",
   "metadata": {},
   "source": [
    "## TD(0) Policy Evaluation\n",
    "\n",
    "With your representations defined, you can now create and test functions to perform TD(0) **policy evaluation**. \n",
    "\n",
    "As a first step you will need a function to find the rewards and next state given a state and an action. You are welcome to start with the `state_values` function from the TD/Q-learning notebook. However, keep in mind that you must modify this code to correctly treat the taboo states of the barrier. Specifically, taboo states should not be visited. \n",
    "\n",
    "Execute your code to test it for each possible action from state 11.  "
   ]
  },
  {
   "cell_type": "code",
   "execution_count": 399,
   "metadata": {},
   "outputs": [
    {
     "name": "stdout",
     "output_type": "stream",
     "text": [
      "(11, -1, False)\n",
      "(11, -1, False)\n",
      "(12, 10, True)\n",
      "(10, -0.1, False)\n"
     ]
    }
   ],
   "source": [
    "def simulate_environment(s, action, neighbors = neighbors, rewards = rewards, terminal = 12):\n",
    "    \"\"\"\n",
    "    Function simulates the environment\n",
    "    returns s_prime and reward given s and action\n",
    "    \"\"\"\n",
    "    s_prime = neighbors[s][action]\n",
    "    reward = rewards[s][action]\n",
    "    return (s_prime, reward, is_terminal(s_prime, terminal))\n",
    "\n",
    "def is_terminal(state, terminal = 12):\n",
    "    return state == terminal\n",
    "\n",
    "#adding a function to take care of the taboos\n",
    "def is_taboos(state, taboo = taboos):\n",
    "    return state in taboo\n",
    "\n",
    "## Test the function\n",
    "for a in ['u', 'd', 'r', 'l']:\n",
    "    print(simulate_environment(11, a,terminal=12))\n",
    "    "
   ]
  },
  {
   "cell_type": "markdown",
   "metadata": {},
   "source": [
    "We have the expected results here from 11 it can only to 12 or 10"
   ]
  },
  {
   "cell_type": "code",
   "execution_count": 400,
   "metadata": {},
   "outputs": [],
   "source": [
    "initial_policy  = {0:{'u':0.25, 'd':0.25, 'l': 0.25, 'r':0.25},\n",
    "                      1:{'u':0.25, 'd':0.25, 'l': 0.25, 'r':0.25},\n",
    "                      2:{'u':0.25, 'd':0.25, 'l': 0.25, 'r':0.25},\n",
    "                      3:{'u':0.25, 'd':0.25, 'l': 0.25, 'r':0.25},\n",
    "                      4:{'u':0.25, 'd':0.25, 'l': 0.25, 'r':0.25},\n",
    "                      5:{'u':0.25, 'd':0.25, 'l': 0.25, 'r':0.25},\n",
    "                      6:{'u':0.25, 'd':0.25, 'l': 0.25, 'r':0.25},\n",
    "                      7:{'u':0.25, 'd':0.25, 'l': 0.25, 'r':0.25},\n",
    "                      8:{'u':0.25, 'd':0.25, 'l': 0.25, 'r':0.25},\n",
    "                      9:{'u':0.25, 'd':0.25, 'l': 0.25, 'r':0.25},\n",
    "                      10:{'u':0.25, 'd':0.25, 'l': 0.25, 'r':0.25},\n",
    "                      11:{'u':0.25, 'd':0.25, 'l': 0.25, 'r':0.25},\n",
    "                      12:{'u':0.25, 'd':0.25, 'l':0.25, 'r':0.25},\n",
    "                      13:{'u':0.25, 'd':0.25, 'l': 0.25, 'r':0.25},\n",
    "                      14:{'u':0.25, 'd':0.25, 'l': 0.25, 'r':0.25},\n",
    "                      15:{'u':0.25, 'd':0.25, 'l': 0.25, 'r':0.25},\n",
    "                      16:{'u':0.25, 'd':0.25, 'l': 0.25, 'r':0.25},\n",
    "                      17:{'u':0.25, 'd':0.25, 'l': 0.25, 'r':0.25},\n",
    "                      18:{'u':0.25, 'd':0.25, 'l': 0.25, 'r':0.25},\n",
    "                      19:{'u':0.25, 'd':0.25, 'l': 0.25, 'r':0.25},\n",
    "                      20:{'u':0.25, 'd':0.25, 'l': 0.25, 'r':0.25},\n",
    "                      21:{'u':0.25, 'd':0.25, 'l': 0.25, 'r':0.25},\n",
    "                      22:{'u':0.25, 'd':0.25, 'l': 0.25, 'r':0.25},\n",
    "                      23:{'u':0.25, 'd':0.25, 'l': 0.25, 'r':0.25},\n",
    "                      24:{'u':0.25, 'd':0.25, 'l': 0.25, 'r':0.25}}"
   ]
  },
  {
   "cell_type": "code",
   "execution_count": 401,
   "metadata": {},
   "outputs": [
    {
     "data": {
      "text/plain": [
       "[9, 24, 1, 10, 24, 0, 11, 23, 5, 23]"
      ]
     },
     "execution_count": 401,
     "metadata": {},
     "output_type": "execute_result"
    }
   ],
   "source": [
    "def start_episode(n_states):\n",
    "    '''Function to find a random starting value for the episode\n",
    "    that is not the terminal state'''\n",
    "    state = nr.choice(range(n_states))\n",
    "    while(is_terminal(state) or is_taboos(state)):\n",
    "         state = nr.choice(range(n_states))\n",
    "    return state\n",
    "\n",
    "## test the function to make sure never starting in terminal state\n",
    "[start_episode(25) for _ in range(10)]"
   ]
  },
  {
   "cell_type": "code",
   "execution_count": 402,
   "metadata": {},
   "outputs": [
    {
     "data": {
      "text/plain": [
       "True"
      ]
     },
     "execution_count": 402,
     "metadata": {},
     "output_type": "execute_result"
    }
   ],
   "source": [
    "starts = [i[0] for i in test]\n",
    "True not in list(set([i in taboos for i in starts]))"
   ]
  },
  {
   "cell_type": "code",
   "execution_count": 403,
   "metadata": {},
   "outputs": [
    {
     "name": "stdout",
     "output_type": "stream",
     "text": [
      "0 ('r', 1, -0.1, False)\n",
      "1 ('d', 1, -1, False)\n",
      "2 ('d', 2, -1, False)\n",
      "3 ('d', 3, -1, False)\n",
      "4 ('d', 9, -0.1, False)\n",
      "5 ('u', 0, -0.1, False)\n",
      "6 ('r', 6, -1, False)\n",
      "7 ('r', 7, -1, False)\n",
      "8 ('r', 8, -1, False)\n",
      "9 ('r', 9, -1, False)\n",
      "10 ('r', 11, -0.1, False)\n",
      "11 ('d', 11, -1, False)\n",
      "12 ('r', 12, 10.0, True)\n",
      "13 ('u', 13, -1, False)\n",
      "14 ('u', 9, -0.1, False)\n",
      "15 ('u', 10, -0.1, False)\n",
      "16 ('u', 16, -1, False)\n",
      "17 ('l', 17, -1, False)\n",
      "18 ('u', 18, -0.1, False)\n",
      "19 ('l', 19, -1, False)\n",
      "20 ('r', 21, -0.1, False)\n",
      "21 ('r', 22, -0.1, False)\n",
      "22 ('d', 22, -1, False)\n",
      "23 ('l', 22, -0.1, False)\n",
      "24 ('d', 24, -1, False)\n"
     ]
    }
   ],
   "source": [
    "def take_action(state, policy, actions = {1:'u', 2:'d', 3:'l', 4:'r'}):\n",
    "    '''Function takes action given state using the transition probabilities \n",
    "    of the policy'''\n",
    "    ## Find the action given the transistion probabilities defined by the policy.\n",
    "    action = actions[nr.choice(range(len(actions)), p = list(policy[state].values())) + 1]\n",
    "    s_prime, reward, terminal = simulate_environment(state, action)\n",
    "    return (action, s_prime, reward, terminal)\n",
    "\n",
    "## Test function for several states\n",
    "for s in range(25):\n",
    "    print('{} {}'.format(s,take_action(s, initial_policy)))"
   ]
  },
  {
   "cell_type": "code",
   "execution_count": 404,
   "metadata": {},
   "outputs": [
    {
     "name": "stdout",
     "output_type": "stream",
     "text": [
      "0 ('u', 0, -1, False)\n",
      "1 ('l', 0, -0.1, False)\n",
      "2 ('d', 2, -1, False)\n",
      "3 ('d', 3, -1, False)\n",
      "4 ('r', 4, -1, False)\n",
      "5 ('r', 5, -1, False)\n",
      "9 ('l', 9, -1, False)\n",
      "10 ('l', 10, -1, False)\n",
      "11 ('d', 11, -1, False)\n",
      "12 ('r', 12, 10.0, True)\n",
      "13 ('u', 13, -1, False)\n",
      "14 ('l', 13, -0.1, False)\n",
      "15 ('r', 15, -1, False)\n",
      "19 ('d', 24, -0.1, False)\n",
      "20 ('l', 20, -1, False)\n",
      "21 ('u', 21, -1, False)\n",
      "22 ('d', 22, -1, False)\n",
      "23 ('d', 23, -1, False)\n",
      "24 ('d', 24, -1, False)\n"
     ]
    },
    {
     "data": {
      "text/plain": [
       "False"
      ]
     },
     "execution_count": 404,
     "metadata": {},
     "output_type": "execute_result"
    }
   ],
   "source": [
    "res = []\n",
    "for s in range(25):\n",
    "    if s not in taboos:\n",
    "        tmp = take_action(s, initial_policy)\n",
    "        print('{} {}'.format(s, tmp))\n",
    "        res.append(tmp[1] in taboos)\n",
    "True in list(set(res))"
   ]
  },
  {
   "cell_type": "markdown",
   "metadata": {},
   "source": [
    "the algo cannot starts from the terminal state or a taboo state"
   ]
  },
  {
   "cell_type": "markdown",
   "metadata": {},
   "source": [
    "taboo states are not visited."
   ]
  },
  {
   "cell_type": "markdown",
   "metadata": {},
   "source": [
    "Examine your results. Are the action values consistent with the transitions?\n",
    "\n",
    "ANS:  Yes"
   ]
  },
  {
   "cell_type": "markdown",
   "metadata": {},
   "source": [
    "Next, you need to create a function to compute the state values using the TD(0) algorithm. You should use the function you just created  to find the rewards and next state given a state and action. You are welcome to use the `td_0_state_values` function from the TD/Q-learning notebook as a starting point.  \n",
    "\n",
    "Execute your function for 1,000 episodes and examine the results."
   ]
  },
  {
   "cell_type": "code",
   "execution_count": 405,
   "metadata": {},
   "outputs": [
    {
     "name": "stdout",
     "output_type": "stream",
     "text": [
      "[[-30.8364 -34.3273 -40.1091 -37.8503 -34.518 ]\n",
      " [-23.9818   0.       0.       0.     -32.2474]\n",
      " [-18.5754  -3.1457   0.      -9.0533 -31.2816]\n",
      " [-26.5844   0.       0.       0.     -35.2863]\n",
      " [-33.3377 -35.2329 -37.4605 -37.8578 -37.4012]]\n"
     ]
    }
   ],
   "source": [
    "def td_0_state_values(policy, n_samps, alpha = 0.2, gamma = 1.0):\n",
    "    \"\"\"\n",
    "    Function for TD(0) policy evalutation\n",
    "    \"\"\"\n",
    "    \n",
    "    ## Find the starting state\n",
    "    n_states = len(policy)\n",
    "    current_state = start_episode(n_states)\n",
    "    terminal = False\n",
    "    \n",
    "    ## Array for state values\n",
    "    v = np.zeros((n_states,1))\n",
    "    \n",
    "    for _ in range(n_samps):\n",
    "        ## Find the next action and reward\n",
    "        action, s_prime, reward, terminal = take_action(current_state, policy)\n",
    "        ## Compute the TD error\n",
    "\n",
    "        delta = reward + gamma*v[s_prime] - v[current_state]\n",
    "        ## Update the state value\n",
    "        v[current_state] = v[current_state] + alpha*delta\n",
    "        #print(v[current_state])\n",
    "        current_state = s_prime\n",
    "        if(terminal): ## start new episode when terminal\n",
    "            current_state = start_episode(n_states)\n",
    "    return(v)\n",
    "\n",
    "output = td_0_state_values(initial_policy, 200000).reshape((5,5))  \n",
    "print(output)"
   ]
  },
  {
   "cell_type": "markdown",
   "metadata": {},
   "source": [
    "## From IntroductionToTDLearning"
   ]
  },
  {
   "cell_type": "markdown",
   "metadata": {},
   "source": [
    "Examine your results and answer the following questions to ensure you action value function operates correctly:\n",
    "1. Are the values of the taboo states 0? ANS:\n",
    "YES\n",
    "2. Are the states with the highest values adjacent to the terminal state? ANS: \n",
    "YES\n",
    "3. Are the values of the states decreasing as the distance from the terminal state increases? ANS: \n",
    "YES"
   ]
  },
  {
   "cell_type": "markdown",
   "metadata": {},
   "source": [
    "\n",
    "## SARSA(0) Policy Improvement\n",
    "\n",
    "Now you will perform policy improvement using the SARSA(0) algorithm.  You are welcome to start with the `select_a_prime` and `SARSA_0` functions from the TD/Q-learning notebooks.    \n",
    "\n",
    "Execute your code for 1,000 episodes, and with $\\alpha = 0.2$, and $\\epsilon = 0.1$)"
   ]
  },
  {
   "cell_type": "code",
   "execution_count": 406,
   "metadata": {
    "scrolled": false
   },
   "outputs": [
    {
     "name": "stdout",
     "output_type": "stream",
     "text": [
      "           up       down       left      right\n",
      "0  -18.856493 -16.829844 -19.180059 -18.584431\n",
      "1  -19.447865 -19.257480 -18.736408 -18.677141\n",
      "2  -19.683658 -19.613434 -18.719325 -18.096243\n",
      "3  -19.013997 -18.996370 -18.691407 -17.555762\n",
      "4  -17.888972 -14.677286 -18.352936 -18.608698\n",
      "5  -17.448085 -14.704784 -16.793949 -16.236492\n",
      "6    0.000000   0.000000   0.000000   0.000000\n",
      "7    0.000000   0.000000   0.000000   0.000000\n",
      "8    0.000000   0.000000   0.000000   0.000000\n",
      "9  -17.653009 -11.935030 -16.296525 -15.846807\n",
      "10 -15.492232 -17.253777 -14.721795  -9.872872\n",
      "11 -11.312768  -9.871202 -14.772483  -2.314001\n",
      "12   0.000000   0.000000   0.000000   0.000000\n",
      "13  -9.714979  -8.949564  -1.219648 -14.301063\n",
      "14 -14.797107 -15.702988  -9.551889 -12.217672\n",
      "15 -13.333360 -19.861271 -17.762895 -17.171149\n",
      "16   0.000000   0.000000   0.000000   0.000000\n",
      "17   0.000000   0.000000   0.000000   0.000000\n",
      "18   0.000000   0.000000   0.000000   0.000000\n",
      "19 -11.821810 -17.634935 -16.054488 -16.240086\n",
      "20 -16.211919 -19.475124 -21.117485 -20.598629\n",
      "21 -20.814285 -21.432662 -19.296942 -20.237915\n",
      "22 -20.918438 -21.083469 -20.144841 -19.114887\n",
      "23 -20.845728 -20.792825 -20.428199 -16.825534\n",
      "24 -14.755400 -19.231219 -18.976846 -18.259920\n"
     ]
    }
   ],
   "source": [
    "def print_Q(Q):\n",
    "    Q = pd.DataFrame(Q, columns = ['up', 'down', 'left', 'right'])\n",
    "    print(Q)\n",
    "\n",
    "def new_episode(n_states, policy):\n",
    "    '''This function provides a start for a TD\n",
    "    episode making sure the first transition is not \n",
    "    the termnal state'''\n",
    "    current_state = start_episode(n_states)\n",
    "    ## Find fist action and reward\n",
    "    action, s_prime, reward, terminal = take_action(current_state, policy)\n",
    "    return(current_state, action, s_prime, reward, terminal)    \n",
    "\n",
    "\n",
    "def SARSA_0(policy, n_samps, alpha = 0.1, gamma = 0.9, action_index = {'u':0, 'd':1, 'l':2, 'r':3}):\n",
    "    \"\"\"\n",
    "    Function for TD(0) policy evalutation\n",
    "    \"\"\"\n",
    "    \n",
    "    ## Find the starting state\n",
    "    n_states = len(policy)\n",
    "    current_state, action, s_prime, reward, terminal = new_episode(n_states, policy)\n",
    "    action_idx = action_index[action]\n",
    "    \n",
    "    ## Array for state values\n",
    "    q = np.zeros((n_states, len(policy[0])))\n",
    "    \n",
    "    for _ in range(n_samps):\n",
    "        ## Find the next action and reward\n",
    "        action_prime, s_prime_prime, reward_prime, terminal_prime = take_action(s_prime, policy)\n",
    "        action_idx_prime = action_index[action_prime]\n",
    "        ## Compute the TD error\n",
    "        delta = reward + gamma*q[s_prime, action_idx_prime] - q[current_state, action_idx]\n",
    "        ## Update the action values\n",
    "        q[current_state, action_idx] = q[current_state, action_idx] + alpha*delta\n",
    "        ## Update the state, action and reward for the next time step\n",
    "        current_state = s_prime\n",
    "        s_prime = s_prime_prime\n",
    "        action = action_prime\n",
    "        reward = reward_prime\n",
    "        terminal = terminal_prime\n",
    "        action_idx = action_idx_prime\n",
    "\n",
    "        ## Check if end of episode\n",
    "        if(terminal): \n",
    "            ## start new episode\n",
    "            current_state, action, s_prime, reward, terminal = new_episode(n_states, policy)        \n",
    "    return(q)\n",
    "\n",
    "\n",
    "Q = SARSA_0(initial_policy, 20000, alpha = 0.2, gamma = 0.99)\n",
    "print_Q(Q)"
   ]
  },
  {
   "cell_type": "markdown",
   "metadata": {},
   "source": [
    "Examine the action values you have computed. Ensure that the action values are 0 for the goal and taboo states. Also check that the actions with the largest values for each state make sense in terms of reaching the goal. "
   ]
  },
  {
   "cell_type": "markdown",
   "metadata": {},
   "source": [
    "With the action value function completed, you will now create and test code to perform GPI with SARSA(0).  You are welcome to use the `SRASA_0_GPI` function from the TD/Q-learning notebook as a starting point. \n",
    "\n",
    "Execute your code for 10 cycles of 100 episodes, with $\\alpha = 0.2$, $\\gamma = 0.9$ and $\\epsilon = 0.01$, and examine the results."
   ]
  },
  {
   "cell_type": "markdown",
   "metadata": {},
   "source": [
    "it seems that there is an issue on the sarasa algo"
   ]
  },
  {
   "cell_type": "code",
   "execution_count": 407,
   "metadata": {},
   "outputs": [
    {
     "data": {
      "text/plain": [
       "{0: {'u': 0.1, 'd': 0.7, 'l': 0.1, 'r': 0.1},\n",
       " 1: {'u': 0.1, 'd': 0.1, 'l': 0.1, 'r': 0.7},\n",
       " 2: {'u': 0.1, 'd': 0.1, 'l': 0.1, 'r': 0.7},\n",
       " 3: {'u': 0.1, 'd': 0.1, 'l': 0.1, 'r': 0.7},\n",
       " 4: {'u': 0.1, 'd': 0.7, 'l': 0.1, 'r': 0.1},\n",
       " 5: {'u': 0.1, 'd': 0.7, 'l': 0.1, 'r': 0.1},\n",
       " 6: {'u': 0.25, 'd': 0.25, 'l': 0.25, 'r': 0.25},\n",
       " 7: {'u': 0.25, 'd': 0.25, 'l': 0.25, 'r': 0.25},\n",
       " 8: {'u': 0.25, 'd': 0.25, 'l': 0.25, 'r': 0.25},\n",
       " 9: {'u': 0.1, 'd': 0.7, 'l': 0.1, 'r': 0.1},\n",
       " 10: {'u': 0.1, 'd': 0.1, 'l': 0.1, 'r': 0.7},\n",
       " 11: {'u': 0.1, 'd': 0.1, 'l': 0.1, 'r': 0.7},\n",
       " 12: {'u': 0.25, 'd': 0.25, 'l': 0.25, 'r': 0.25},\n",
       " 13: {'u': 0.1, 'd': 0.1, 'l': 0.7, 'r': 0.1},\n",
       " 14: {'u': 0.1, 'd': 0.1, 'l': 0.7, 'r': 0.1},\n",
       " 15: {'u': 0.7, 'd': 0.1, 'l': 0.1, 'r': 0.1},\n",
       " 16: {'u': 0.25, 'd': 0.25, 'l': 0.25, 'r': 0.25},\n",
       " 17: {'u': 0.25, 'd': 0.25, 'l': 0.25, 'r': 0.25},\n",
       " 18: {'u': 0.25, 'd': 0.25, 'l': 0.25, 'r': 0.25},\n",
       " 19: {'u': 0.7, 'd': 0.1, 'l': 0.1, 'r': 0.1},\n",
       " 20: {'u': 0.7, 'd': 0.1, 'l': 0.1, 'r': 0.1},\n",
       " 21: {'u': 0.1, 'd': 0.1, 'l': 0.7, 'r': 0.1},\n",
       " 22: {'u': 0.1, 'd': 0.1, 'l': 0.1, 'r': 0.7},\n",
       " 23: {'u': 0.1, 'd': 0.1, 'l': 0.1, 'r': 0.7},\n",
       " 24: {'u': 0.7, 'd': 0.1, 'l': 0.1, 'r': 0.1}}"
      ]
     },
     "execution_count": 407,
     "metadata": {},
     "output_type": "execute_result"
    }
   ],
   "source": [
    "def update_policy(policy, Q, epsilon, action_index = {'u':0, 'd':1, 'l':2, 'r':3}):\n",
    "    '''Updates the policy based on estiamtes of Q using \n",
    "    an epslion greedy algorithm. The action with the highest\n",
    "    action value is used.'''\n",
    "    \n",
    "    ## Find the keys for the actions in the policy\n",
    "    keys = list(policy[0].keys())\n",
    "    \n",
    "    ## Iterate over the states and find the maximm action value.\n",
    "    for state in range(len(policy)):\n",
    "        ## First find the index of the max Q values  \n",
    "        q = Q[state,:]\n",
    "        max_action_index = np.where(q == max(q))[0]\n",
    "\n",
    "        ## Find the probabilities for the transitions\n",
    "        n_transitions = float(len(q))\n",
    "        n_max_transitions = float(len(max_action_index))\n",
    "        p_max_transitions = (1.0 - epsilon *(n_transitions - n_max_transitions))/(n_max_transitions)\n",
    "  \n",
    "        ## Now assign the probabilities to the policy as epsilon greedy.\n",
    "        for key in keys:\n",
    "            if(action_index[key] in max_action_index): policy[state][key] = p_max_transitions\n",
    "            else: policy[state][key] = epsilon\n",
    "    return(policy)                \n",
    "\n",
    "update_policy(initial_policy, Q, 0.1)    "
   ]
  },
  {
   "cell_type": "code",
   "execution_count": 422,
   "metadata": {},
   "outputs": [
    {
     "name": "stdout",
     "output_type": "stream",
     "text": [
      "0 {'u': 0.1, 'd': 0.7, 'l': 0.1, 'r': 0.1}\n",
      "1 {'u': 0.1, 'd': 0.1, 'l': 0.7, 'r': 0.1}\n",
      "2 {'u': 0.1, 'd': 0.1, 'l': 0.1, 'r': 0.7}\n",
      "3 {'u': 0.1, 'd': 0.1, 'l': 0.7, 'r': 0.1}\n",
      "4 {'u': 0.1, 'd': 0.1, 'l': 0.7, 'r': 0.1}\n",
      "5 {'u': 0.1, 'd': 0.1, 'l': 0.7, 'r': 0.1}\n",
      "6 {'u': 0.25, 'd': 0.25, 'l': 0.25, 'r': 0.25}\n",
      "7 {'u': 0.25, 'd': 0.25, 'l': 0.25, 'r': 0.25}\n",
      "8 {'u': 0.25, 'd': 0.25, 'l': 0.25, 'r': 0.25}\n",
      "9 {'u': 0.1, 'd': 0.7, 'l': 0.1, 'r': 0.1}\n",
      "10 {'u': 0.1, 'd': 0.7, 'l': 0.1, 'r': 0.1}\n",
      "11 {'u': 0.25, 'd': 0.25, 'l': 0.25, 'r': 0.25}\n",
      "12 {'u': 0.25, 'd': 0.25, 'l': 0.25, 'r': 0.25}\n",
      "13 {'u': 0.1, 'd': 0.1, 'l': 0.7, 'r': 0.1}\n",
      "14 {'u': 0.4, 'd': 0.4, 'l': 0.1, 'r': 0.1}\n",
      "15 {'u': 0.3, 'd': 0.3, 'l': 0.1, 'r': 0.3}\n",
      "16 {'u': 0.25, 'd': 0.25, 'l': 0.25, 'r': 0.25}\n",
      "17 {'u': 0.25, 'd': 0.25, 'l': 0.25, 'r': 0.25}\n",
      "18 {'u': 0.25, 'd': 0.25, 'l': 0.25, 'r': 0.25}\n",
      "19 {'u': 0.1, 'd': 0.3, 'l': 0.3, 'r': 0.3}\n",
      "20 {'u': 0.25, 'd': 0.25, 'l': 0.25, 'r': 0.25}\n",
      "21 {'u': 0.25, 'd': 0.25, 'l': 0.25, 'r': 0.25}\n",
      "22 {'u': 0.25, 'd': 0.25, 'l': 0.25, 'r': 0.25}\n",
      "23 {'u': 0.25, 'd': 0.25, 'l': 0.25, 'r': 0.25}\n",
      "24 {'u': 0.25, 'd': 0.25, 'l': 0.25, 'r': 0.25}\n"
     ]
    }
   ],
   "source": [
    "def SARSA_GPI(policy, n_samples, n_cycles, epsilon = 0.1, n_actions = 4):\n",
    "    '''Function perfoms GPI using Monte Carlo value estimation.\n",
    "    Updates to policy are epsilon greedy to prevent the algorithm\n",
    "    from being trapped at some point.'''\n",
    "    Q = np.zeros((len(policy), n_actions))\n",
    "    ## Iterate over the required number of cycles\n",
    "    for _ in range(n_cycles):\n",
    "        Q = SARSA_0(policy, n_samples, alpha = 0.2, gamma = 0.99)\n",
    "        policy = update_policy(policy, Q, epsilon = epsilon)\n",
    "    return(policy)\n",
    "\n",
    "improved_policy = SARSA_GPI(initial_policy, 100, 50, epsilon = 0.1)  \n",
    "for state in range(25):\n",
    "    print('{} {}'.format(state, improved_policy[state]))"
   ]
  },
  {
   "cell_type": "markdown",
   "metadata": {},
   "source": [
    "Verify that your results make sense? For example, starting at state 2 or 22, do the most probable actions follow a shortest path?\n",
    "\n",
    "ANS: yes it seems to make sense"
   ]
  },
  {
   "cell_type": "markdown",
   "metadata": {},
   "source": [
    "## Apply Double Q-Learning\n",
    "\n",
    "As a next step, you will apply Double Q-learning(0) to the warehouse navigation problem. In the cell below create and test a function to perform Double Q-Learning for this problem. You are welcome to use the `double_Q_learning` function from the TD/Q-learning notebook as a starting point.\n",
    "\n",
    "Execute your code for 10 cycles of 500 episodes, with $\\alpha = 0.2$, and $\\gamma = 0.9$ and examine the results."
   ]
  },
  {
   "cell_type": "code",
   "execution_count": 409,
   "metadata": {},
   "outputs": [],
   "source": [
    "import copy"
   ]
  },
  {
   "cell_type": "code",
   "execution_count": 410,
   "metadata": {},
   "outputs": [
    {
     "name": "stdout",
     "output_type": "stream",
     "text": [
      "(1, array([-1. , -1. , -0.1, -0.1]), False)\n",
      "(1, array([-1. , -1. , -0.1, -0.1]), False)\n",
      "(2, array([-1. , -1. , -0.1, -0.1]), False)\n",
      "(0, array([-1. , -0.1, -1. , -0.1]), False)\n"
     ]
    }
   ],
   "source": [
    "def action_lookup(index):\n",
    "    \"\"\"Helper function returns action given an index\"\"\"\n",
    "    action_dic = {0:'u', 1:'d', 2:'l', 3:'r'}\n",
    "    return action_dic[index]\n",
    "\n",
    "def index_lookup(action):\n",
    "    \"\"\"Helper function returns index given action\"\"\"\n",
    "    index_dic = {'u':0, 'd':1, 'l':2, 'r':3}\n",
    "    return index_dic[action]\n",
    "\n",
    "\n",
    "def next_state(state, action_index, neighbors = neighbors, action_lookup = action_lookup):\n",
    "    return(neighbors[state][action_lookup[action_index]])\n",
    "\n",
    "def simulate_environment(s, action, neighbors = neighbors, rewards = rewards, terminal = 12):\n",
    "    \"\"\"\n",
    "    Function simulates the environment for Q-learning.\n",
    "    returns s_prime and reward given s and action\n",
    "    \"\"\"\n",
    "    s_prime = neighbors[s][action]\n",
    "    reward_prime = np.array([rewards[s_prime][a] for a in rewards[0].keys()])\n",
    "    return (s_prime, reward_prime, is_terminal(s_prime, terminal))\n",
    "    \n",
    "\n",
    "def is_terminal(state, terminal = 12):\n",
    "    return state == terminal\n",
    "\n",
    "#adding a function to take care of the taboos\n",
    "def is_taboos(state, taboo = taboos):\n",
    "    return state in taboo\n",
    "\n",
    "## Test the function\n",
    "for a in ['u', 'd', 'r', 'l']:\n",
    "    print(simulate_environment(1, a))"
   ]
  },
  {
   "cell_type": "code",
   "execution_count": 411,
   "metadata": {},
   "outputs": [],
   "source": [
    "def start_episode(n_states, n_actions):\n",
    "    '''Function to find a random starting values for the episode\n",
    "    that is not the terminal state'''\n",
    "    state = nr.choice(range(n_states))\n",
    "    while(is_terminal(state) or is_taboos(state)):  ## Make sure not starting at the terminal state\n",
    "         state = nr.choice(range(n_states))\n",
    "    ## Now find a random starting action index\n",
    "    a_index = nr.choice(range(4), size = 1)[0]\n",
    "    s_prime, reward, terminal = simulate_environment(state, action_lookup(a_index))   \n",
    "    return state, a_index, reward[a_index] ## action_lookup(a_index), reward[a_index]\n",
    "\n",
    "## test the function to make sure never starting in terminal state\n",
    "a = [start_episode(15,4) for _ in range(25)]\n",
    "\n",
    "assert( 12 not in list(set([x[0] for x in a])))"
   ]
  },
  {
   "cell_type": "code",
   "execution_count": 412,
   "metadata": {},
   "outputs": [
    {
     "name": "stdout",
     "output_type": "stream",
     "text": [
      "('r', 1, array([-1. , -1. , -0.1, -0.1]), False)\n",
      "('d', 1, array([-1. , -1. , -0.1, -0.1]), False)\n",
      "('l', 1, array([-1. , -1. , -0.1, -0.1]), False)\n",
      "('l', 2, array([-1. , -1. , -0.1, -0.1]), False)\n",
      "('u', 4, array([-1. , -0.1, -0.1, -1. ]), False)\n",
      "('u', 0, array([-1. , -0.1, -1. , -0.1]), False)\n",
      "('d', 6, array([-1, -1, -1, -1]), False)\n",
      "('u', 7, array([-1, -1, -1, -1]), False)\n",
      "('d', 8, array([-1, -1, -1, -1]), False)\n",
      "('d', 14, array([-0.1, -0.1, -0.1, -1. ]), False)\n",
      "('r', 11, array([-1. , -1. , -0.1, 10. ]), False)\n",
      "('l', 10, array([-0.1, -0.1, -1. , -0.1]), False)\n",
      "('d', 12, array([10., 10., 10., 10.]), True)\n",
      "('l', 12, array([10., 10., 10., 10.]), True)\n",
      "('r', 14, array([-0.1, -0.1, -0.1, -1. ]), False)\n",
      "('u', 10, array([-0.1, -0.1, -1. , -0.1]), False)\n",
      "('l', 16, array([-1, -1, -1, -1]), False)\n",
      "('l', 17, array([-1, -1, -1, -1]), False)\n",
      "('d', 18, array([-0.1, -0.1, -0.1, -0.1]), False)\n",
      "('r', 19, array([-0.1, -0.1, -1. , -1. ]), False)\n",
      "('u', 15, array([-0.1, -0.1, -1. , -1. ]), False)\n",
      "('l', 20, array([-0.1, -1. , -1. , -0.1]), False)\n",
      "('d', 22, array([-1. , -1. , -0.1, -0.1]), False)\n",
      "('d', 23, array([-1. , -1. , -0.1, -0.1]), False)\n",
      "('d', 24, array([-0.1, -1. , -0.1, -1. ]), False)\n"
     ]
    }
   ],
   "source": [
    "def take_action(state, policy):\n",
    "    '''Function takes action given state using the transition probabilities \n",
    "    of the policy'''\n",
    "    ## Find the action given the transistion probabilities defined by the policy.\n",
    "    action = action_lookup(nr.choice(range(len(policy[0].keys())), p = list(policy[state].values()))) \n",
    "    s_prime, reward, terminal = simulate_environment(state, action)\n",
    "    return (action, s_prime, reward, terminal)\n",
    "\n",
    "## Test function for several states\n",
    "for s in range(25):\n",
    "    print(take_action(s, initial_policy))"
   ]
  },
  {
   "cell_type": "code",
   "execution_count": 413,
   "metadata": {},
   "outputs": [
    {
     "name": "stdout",
     "output_type": "stream",
     "text": [
      "          up      down       left      right\n",
      "0   3.647743  7.780917   3.721580   6.612731\n",
      "1   3.616720  2.314130   8.040339   7.000128\n",
      "2   2.873600  4.046767   6.687332   6.308640\n",
      "3   1.791154  2.947040   7.025245   7.352395\n",
      "4   4.439645  7.070568   6.315840   0.075755\n",
      "5   7.646268  9.220973   4.646529   3.671837\n",
      "6   0.000000  0.000000   0.000000   0.000000\n",
      "7   0.000000  0.000000   0.000000   0.000000\n",
      "8   0.000000  0.000000   0.000000   0.000000\n",
      "9   7.215010  8.836026   3.019240   4.438518\n",
      "10  7.958803  8.038468   4.469527  11.197680\n",
      "11  6.292600  5.478753   6.997341  11.111111\n",
      "12  0.000000  0.000000   0.000000   0.000000\n",
      "13  4.486317  7.914651  11.111111   3.681902\n",
      "14  7.549500  7.334963  11.000121   6.176568\n",
      "15  8.696996  6.863987   2.795281   2.374631\n",
      "16  0.000000  0.000000   0.000000   0.000000\n",
      "17  0.000000  0.000000   0.000000   0.000000\n",
      "18  0.000000  0.000000   0.000000   0.000000\n",
      "19  8.920531  7.014369   5.567586   3.194307\n",
      "20  7.781656  2.509616   3.327837   6.896219\n",
      "21  2.074652  0.767909   6.783938   6.336704\n",
      "22  2.047629  1.639932   6.719473   6.835699\n",
      "23  1.279604  2.797909   6.518213   7.688361\n",
      "24  7.235699  3.054181   6.731419   2.022737\n"
     ]
    }
   ],
   "source": [
    "def update_double_Q(q1, q2, current_state, a_index, reward, alpha, gamma):\n",
    "    \"\"\"Function to update the actions values in the Q matrix\"\"\"\n",
    "    ## Get s_prime given s and a\n",
    "    s_prime, reward_prime, terminal = simulate_environment(current_state, action_lookup(a_index))\n",
    "    a_prime_index = nr.choice(np.where(reward_prime == max(reward_prime))[0], size = 1)[0]\n",
    "    ## Update the action values \n",
    "    q1[current_state,a_index] = q1[current_state,a_index] + alpha * (reward + gamma * (q2[s_prime,a_prime_index] - q1[current_state,a_index]))\n",
    "    return q1, s_prime, reward_prime, terminal, a_prime_index\n",
    "\n",
    "\n",
    "def double_Q_learning_0(policy, episodes, alpha = 0.2, gamma = 0.9):\n",
    "    \"\"\"\n",
    "    Function to perform Q-learning(0) control policy improvement.\n",
    "    \"\"\"\n",
    "    ## Initialize the state list and action values\n",
    "    states = list(policy.keys())\n",
    "    n_states = len(states)\n",
    "    n_actions = len(policy[0].keys())\n",
    "    \n",
    "    ## Initialize both Q matricies\n",
    "    Q1 = np.zeros((n_states,n_actions))\n",
    "    Q2 = np.zeros((n_states,n_actions))\n",
    "    \n",
    "    for _ in range(episodes): # Loop over the episodes\n",
    "        terminal = False\n",
    "        ## Find the inital state, action index and reward\n",
    "        current_state, a_index, reward = start_episode(n_states,n_actions)\n",
    "        \n",
    "        while(not terminal): # Episode ends where get to terminal state   \n",
    "            ## Update the action values in Q1 or Q2 based on random choice\n",
    "            if(nr.uniform() <= 0.5):\n",
    "                Q1, s_prime, reward_prime, terminal, a_prime_index = update_double_Q(Q1, Q2, current_state, a_index, reward, alpha, gamma)\n",
    "            else:\n",
    "                Q2, s_prime, reward_prime, terminal, a_prime_index = update_double_Q(Q2, Q1, current_state, a_index, reward, alpha, gamma)\n",
    "            ## Set action, reward and state for next iteration\n",
    "            a_index = a_prime_index\n",
    "            current_state = s_prime\n",
    "            reward = reward_prime[a_prime_index]\n",
    "    return(Q1)\n",
    "\n",
    "Q = double_Q_learning_0(initial_policy, 1000)\n",
    "print_Q(Q)"
   ]
  },
  {
   "cell_type": "code",
   "execution_count": 414,
   "metadata": {},
   "outputs": [
    {
     "data": {
      "text/plain": [
       "0      down\n",
       "1      left\n",
       "2      left\n",
       "3     right\n",
       "4      down\n",
       "5      down\n",
       "6        up\n",
       "7        up\n",
       "8        up\n",
       "9      down\n",
       "10    right\n",
       "11    right\n",
       "12       up\n",
       "13     left\n",
       "14     left\n",
       "15       up\n",
       "16       up\n",
       "17       up\n",
       "18       up\n",
       "19       up\n",
       "20       up\n",
       "21     left\n",
       "22    right\n",
       "23    right\n",
       "24       up\n",
       "dtype: object"
      ]
     },
     "execution_count": 414,
     "metadata": {},
     "output_type": "execute_result"
    }
   ],
   "source": [
    "Q_df = pd.DataFrame(Q, columns = ['up', 'down', 'left', 'right'])\n",
    "Q_df.idxmax('columns')"
   ]
  },
  {
   "cell_type": "markdown",
   "metadata": {},
   "source": [
    "Examine the action values you have computed. Ensure that the action values are 0 for the goal and taboo states. Also check that the actions with the largest values for each state make sense in terms of reaching the goal. \n",
    "\n",
    "Actual values on terminal states make senses"
   ]
  },
  {
   "cell_type": "markdown",
   "metadata": {},
   "source": [
    "With the action value function completed, you will now create and test code to perform GPI with Double Q-Learning(0).  You are welcome to use the `double_Q_learning_0_GPI` function from the TD/Q-learning notebook as a starting point. \n",
    "\n",
    "Execute your code for 10 cycles of 500 episodes, with $\\alpha = 0.2$, $\\gamma = 0.9$ and $\\epsilon = 0.01$, and examine the results. "
   ]
  },
  {
   "cell_type": "code",
   "execution_count": 415,
   "metadata": {},
   "outputs": [
    {
     "data": {
      "text/plain": [
       "{0: {'u': 0.01, 'd': 0.97, 'l': 0.01, 'r': 0.01},\n",
       " 1: {'u': 0.01, 'd': 0.01, 'l': 0.97, 'r': 0.01},\n",
       " 2: {'u': 0.01, 'd': 0.01, 'l': 0.01, 'r': 0.97},\n",
       " 3: {'u': 0.01, 'd': 0.01, 'l': 0.01, 'r': 0.97},\n",
       " 4: {'u': 0.01, 'd': 0.97, 'l': 0.01, 'r': 0.01},\n",
       " 5: {'u': 0.01, 'd': 0.97, 'l': 0.01, 'r': 0.01},\n",
       " 6: {'u': 0.25, 'd': 0.25, 'l': 0.25, 'r': 0.25},\n",
       " 7: {'u': 0.25, 'd': 0.25, 'l': 0.25, 'r': 0.25},\n",
       " 8: {'u': 0.25, 'd': 0.25, 'l': 0.25, 'r': 0.25},\n",
       " 9: {'u': 0.01, 'd': 0.97, 'l': 0.01, 'r': 0.01},\n",
       " 10: {'u': 0.01, 'd': 0.01, 'l': 0.01, 'r': 0.97},\n",
       " 11: {'u': 0.01, 'd': 0.01, 'l': 0.01, 'r': 0.97},\n",
       " 12: {'u': 0.25, 'd': 0.25, 'l': 0.25, 'r': 0.25},\n",
       " 13: {'u': 0.01, 'd': 0.01, 'l': 0.97, 'r': 0.01},\n",
       " 14: {'u': 0.01, 'd': 0.01, 'l': 0.97, 'r': 0.01},\n",
       " 15: {'u': 0.97, 'd': 0.01, 'l': 0.01, 'r': 0.01},\n",
       " 16: {'u': 0.25, 'd': 0.25, 'l': 0.25, 'r': 0.25},\n",
       " 17: {'u': 0.25, 'd': 0.25, 'l': 0.25, 'r': 0.25},\n",
       " 18: {'u': 0.25, 'd': 0.25, 'l': 0.25, 'r': 0.25},\n",
       " 19: {'u': 0.97, 'd': 0.01, 'l': 0.01, 'r': 0.01},\n",
       " 20: {'u': 0.97, 'd': 0.01, 'l': 0.01, 'r': 0.01},\n",
       " 21: {'u': 0.01, 'd': 0.01, 'l': 0.97, 'r': 0.01},\n",
       " 22: {'u': 0.01, 'd': 0.01, 'l': 0.01, 'r': 0.97},\n",
       " 23: {'u': 0.01, 'd': 0.01, 'l': 0.01, 'r': 0.97},\n",
       " 24: {'u': 0.97, 'd': 0.01, 'l': 0.01, 'r': 0.01}}"
      ]
     },
     "execution_count": 415,
     "metadata": {},
     "output_type": "execute_result"
    }
   ],
   "source": [
    "import copy\n",
    "\n",
    "def double_Q_learning_0_GPI(policy, neighbors, reward, cycles, episodes, goal, \n",
    "                            alpha = 0.2, gamma = 0.9, epsilon = 0.1):\n",
    "    ## iterate over GPI cycles\n",
    "    current_policy = copy.deepcopy(policy)\n",
    "    for _ in range(cycles):\n",
    "        ## Evaluate policy with double Q learning\n",
    "        Q = double_Q_learning_0(policy, episodes, alpha, gamma)\n",
    "        \n",
    "        for s in list(current_policy.keys()): # iterate over all states\n",
    "            ## Find the index action with the largest Q values \n",
    "            ## May be more than one. \n",
    "            max_index = np.where(Q[s,:] == max(Q[s,:]))[0]\n",
    "            \n",
    "            ## Probabilities of transition\n",
    "            ## Need to allow for further exploration so don't let any \n",
    "            ## transition probability be 0.\n",
    "            ## Some gymnastics are required to ensure that the probabilities \n",
    "            ## over the transistions actual add to exactly 1.0\n",
    "            actions_count = len(current_policy[s])\n",
    "            max_len = len(max_index)\n",
    "            prob_for_policy = 1.0/float(max_len)\n",
    "            prob_for_policy -= epsilon * (float(actions_count) - float(max_len))\n",
    "            if(actions_count > max_len):\n",
    "                remainder = epsilon\n",
    "            else:\n",
    "                remainder = 0.25            \n",
    "                                                 \n",
    "            for i, key in enumerate(current_policy[s]): ## Update policy\n",
    "                if(i in max_index): current_policy[s][key] = prob_for_policy\n",
    "                else: current_policy[s][key] = remainder   \n",
    "                    \n",
    "    return(current_policy)                    \n",
    " \n",
    "\n",
    "Double_Q_0_Policy = double_Q_learning_0_GPI(initial_policy, neighbors, rewards, cycles=10, episodes=500, goal = 0,\n",
    "                                            alpha = 0.2, epsilon = 0.01)\n",
    "Double_Q_0_Policy "
   ]
  },
  {
   "cell_type": "markdown",
   "metadata": {},
   "source": [
    "Verify that your results make sense? For example, starting at state 2 or 22, do the most probable actions follow a shortest path?\n",
    "\n",
    "ANS: yes it makes senses"
   ]
  },
  {
   "cell_type": "markdown",
   "metadata": {},
   "source": [
    "## N-Step TD Learning\n",
    "\n",
    "Finally, you will apply N-Step TD learning and N-Step SARSA to the warehouse navigation problem.  First create a function to perform N-step TD policy evaluation. You are welcome to start with the `TD_n` policy evaluation function from the TD/Q-Learning notebook. \n",
    "\n",
    "Test your function using 1,000 episodes, $n = 4$, $\\gamma = 0.9$, and $\\alpha = 0.2$."
   ]
  },
  {
   "cell_type": "code",
   "execution_count": 416,
   "metadata": {},
   "outputs": [],
   "source": [
    "def start_episode(n_states):\n",
    "    '''Function to find a random starting value for the episode\n",
    "    that is not the terminal state'''\n",
    "    state = nr.choice(range(n_states))\n",
    "    while(is_terminal(state) or is_taboos(state)):\n",
    "         state = nr.choice(range(n_states))\n",
    "    return state"
   ]
  },
  {
   "cell_type": "code",
   "execution_count": 417,
   "metadata": {},
   "outputs": [
    {
     "name": "stdout",
     "output_type": "stream",
     "text": [
      "(11, -1, False)\n",
      "(11, -1, False)\n",
      "(12, 10, True)\n",
      "(10, -0.1, False)\n"
     ]
    }
   ],
   "source": [
    "def simulate_environment(s, action, neighbors = neighbors, rewards = rewards, terminal = 12):\n",
    "    \"\"\"\n",
    "    Function simulates the environment\n",
    "    returns s_prime and reward given s and action\n",
    "    \"\"\"\n",
    "    s_prime = neighbors[s][action]\n",
    "    reward = rewards[s][action]\n",
    "    return (s_prime, reward, is_terminal(s_prime, terminal))\n",
    "\n",
    "def is_terminal(state, terminal = 12):\n",
    "    return state == terminal\n",
    "\n",
    "#adding a function to take care of the taboos\n",
    "def is_taboos(state, taboo = taboos):\n",
    "    return state in taboo\n",
    "\n",
    "## Test the function\n",
    "for a in ['u', 'd', 'r', 'l']:\n",
    "    print(simulate_environment(11, a,terminal=12))\n",
    "    "
   ]
  },
  {
   "cell_type": "code",
   "execution_count": 418,
   "metadata": {},
   "outputs": [
    {
     "name": "stdout",
     "output_type": "stream",
     "text": [
      "0 ('r', 1, -0.1, False)\n",
      "1 ('r', 2, -0.1, False)\n",
      "2 ('r', 3, -0.1, False)\n",
      "3 ('u', 3, -1, False)\n",
      "4 ('u', 4, -1, False)\n",
      "5 ('u', 0, -0.1, False)\n",
      "6 ('l', 6, -1, False)\n",
      "7 ('l', 7, -1, False)\n",
      "8 ('u', 8, -1, False)\n",
      "9 ('u', 4, -0.1, False)\n",
      "10 ('r', 11, -0.1, False)\n",
      "11 ('l', 10, -0.1, False)\n",
      "12 ('d', 12, 10.0, True)\n",
      "13 ('d', 13, -1, False)\n",
      "14 ('u', 9, -0.1, False)\n",
      "15 ('u', 10, -0.1, False)\n",
      "16 ('d', 16, -1, False)\n",
      "17 ('d', 17, -1, False)\n",
      "18 ('u', 18, -0.1, False)\n",
      "19 ('r', 19, -1, False)\n",
      "20 ('u', 15, -0.1, False)\n",
      "21 ('d', 21, -1, False)\n",
      "22 ('d', 22, -1, False)\n",
      "23 ('r', 24, -0.1, False)\n",
      "24 ('l', 23, -0.1, False)\n"
     ]
    }
   ],
   "source": [
    "def take_action(state, policy, actions = {1:'u', 2:'d', 3:'l', 4:'r'}):\n",
    "    '''Function takes action given state using the transition probabilities \n",
    "    of the policy'''\n",
    "    ## Find the action given the transistion probabilities defined by the policy.\n",
    "    action = actions[nr.choice(range(len(actions)), p = list(policy[state].values())) + 1]\n",
    "    s_prime, reward, terminal = simulate_environment(state, action)\n",
    "    return (action, s_prime, reward, terminal)\n",
    "\n",
    "## Test function for several states\n",
    "for s in range(25):\n",
    "    print('{} {}'.format(s,take_action(s, initial_policy)))"
   ]
  },
  {
   "cell_type": "code",
   "execution_count": 419,
   "metadata": {},
   "outputs": [
    {
     "name": "stdout",
     "output_type": "stream",
     "text": [
      "[[-0.0195 -0.0707 -0.0912 -0.0339 -0.0141]\n",
      " [ 0.0284  0.      0.      0.      0.0186]\n",
      " [ 0.8324  1.3761  0.      0.1847  0.0015]\n",
      " [ 0.4333  0.      0.      0.     -0.0327]\n",
      " [ 0.1109 -0.0128 -0.0092 -0.0055 -0.0204]]\n"
     ]
    }
   ],
   "source": [
    "def TD_n(policy, episodes, n, alpha = 0.2, gamma = 0.9, epsilon = 0.1, action_index = {'u':0, 'd':1, 'l':2, 'r':3}):\n",
    "    \"\"\"\n",
    "    Function to perform TD(N) policy evaluation.\n",
    "    \"\"\"\n",
    "    ## Initialize the state list and action values\n",
    "#    action_index = list(range(len(list(policy[0].keys()))))\n",
    "    states = list(policy.keys())\n",
    "    n_states = len(states)\n",
    "    n_actions = len(policy[0].keys())\n",
    "    v = np.zeros((n_states))\n",
    "    \n",
    "    for _ in range(episodes):\n",
    "        ## Initialize variables\n",
    "        T = float(\"inf\")\n",
    "        tau = 0\n",
    "        t = 0\n",
    "        rewards = []\n",
    "       \n",
    "        ## Get the random initial state\n",
    "        current_state = start_episode(n_states)   \n",
    "        state = [current_state]\n",
    "        ## Initial action\n",
    "        action, s_prime, reward, terminal = take_action(current_state, policy)\n",
    "        state.append(s_prime)\n",
    "        \n",
    "        while(not (tau == T - 1)):\n",
    "            if(t < T):\n",
    "                ## Append the reward to the list\n",
    "                rewards.append(reward)             \n",
    "                if(terminal): \n",
    "                    ## update T if at terminal state\n",
    "                    T = t + 1\n",
    "                else: \n",
    "                    ## Get the next action state and rewards\n",
    "                    action_prime, s_prime_prime, reward_prime, terminal_prime = take_action(current_state, policy)\n",
    "                    state.append(s_prime_prime)\n",
    "                      \n",
    "            ## Update tau\n",
    "            tau = t - n + 1\n",
    "            \n",
    "            if(tau > 0):\n",
    "                G = 0.0\n",
    "                for i in range(tau + 1, min(tau + n, T)):\n",
    "                    exponent = i + tau - 1\n",
    "                    G = G + gamma**exponent * rewards[i]\n",
    "                if(tau + n < T): G += gamma**n * v[state[tau + n]] \n",
    "                v[state[tau]] = v[state[tau]] + alpha * (G - v[state[tau]])    \n",
    "                \n",
    "            \n",
    "            ## Update variables for the next step\n",
    "            t += 1\n",
    "            current_state = s_prime\n",
    "            if(not terminal):\n",
    "                action = action_prime\n",
    "                s_prime = s_prime_prime\n",
    "                reward = reward_prime\n",
    "                terminal = terminal_prime\n",
    "    return(v)     \n",
    "\n",
    "output = TD_n(initial_policy, 1000, 4).reshape((5,5))\n",
    "np.set_printoptions(precision=4)\n",
    "print(output)"
   ]
  },
  {
   "cell_type": "markdown",
   "metadata": {},
   "source": [
    "Verify that the result you obtained appears correct. Are the values of the goal and taboo states all 0? Do the state values decrease with distance from the goal?"
   ]
  },
  {
   "cell_type": "markdown",
   "metadata": {},
   "source": [
    "Yes they seems correct"
   ]
  },
  {
   "cell_type": "markdown",
   "metadata": {},
   "source": [
    "Now that you have an estimate of the best values for the number of steps and the learning rate you can compute the action values using multi-step SARSA. In the cell below, create and test a function to compute the action values using N-step SARSA. You are welcome to use the `SRARSA_n` function from the TD/Q-learning notebook as a starting point. \n",
    "\n",
    "Test your function by executing 4-step SARSA for 1,000 episodes with $\\alpha = 0.2$ and $\\gamma = 0.9$ and using the optimum number of steps and learning rate you have determined. "
   ]
  },
  {
   "cell_type": "code",
   "execution_count": 420,
   "metadata": {},
   "outputs": [
    {
     "name": "stdout",
     "output_type": "stream",
     "text": [
      "          up      down      left     right\n",
      "0  -0.134792 -0.095305 -0.089533 -0.078448\n",
      "1  -0.116082 -0.498497 -0.094211 -0.197105\n",
      "2  -0.367159 -0.196308 -0.108810 -0.116112\n",
      "3  -0.046306 -0.054957 -0.088467 -0.048756\n",
      "4  -0.038729 -0.032936 -0.044112 -0.037341\n",
      "5  -0.349516 -0.047144 -0.114560 -0.071097\n",
      "6   0.000000  0.000000  0.000000  0.000000\n",
      "7   0.000000  0.000000  0.000000  0.000000\n",
      "8   0.000000  0.000000  0.000000  0.000000\n",
      "9  -0.028553 -0.038992 -0.047846 -0.041077\n",
      "10 -0.034873 -0.037511 -0.086519  1.119001\n",
      "11 -0.558291 -0.139025 -0.256826  0.404793\n",
      "12  0.000000  0.000000  0.000000  0.000000\n",
      "13 -0.041624 -0.054438  0.125726 -0.099365\n",
      "14 -0.029839 -0.046961 -0.016068 -0.039273\n",
      "15 -0.023386 -0.124809 -0.014423  0.252861\n",
      "16  0.000000  0.000000  0.000000  0.000000\n",
      "17  0.000000  0.000000  0.000000  0.000000\n",
      "18  0.000000  0.000000  0.000000  0.000000\n",
      "19 -0.022965 -0.103897 -0.028593 -0.058018\n",
      "20 -0.009831 -0.890913 -0.939223 -0.140337\n",
      "21 -0.024220 -0.106176 -0.057902 -0.132241\n",
      "22 -0.223619 -0.090662 -0.097482 -0.104962\n",
      "23 -0.084795 -0.111384 -0.087361  0.004345\n",
      "24 -0.040358 -0.032353 -0.024028 -0.062063\n"
     ]
    }
   ],
   "source": [
    "def SARSA_n(policy, episodes, n, alpha = 0.2, gamma = 0.9, epsilon = 0.1, action_index = {'u':0, 'd':1, 'l':2, 'r':3}):\n",
    "    \"\"\"\n",
    "    Function to perform TD(N) policy evaluation.\n",
    "    \"\"\"\n",
    "    ## Initialize the state list and action values\n",
    "#    action_index = list(range(len(list(policy[0].keys()))))\n",
    "    states = list(policy.keys())\n",
    "    n_states = len(states)\n",
    "    n_actions = len(policy[0].keys())\n",
    "    q = np.zeros((n_states, n_actions))\n",
    "    \n",
    "    for _ in range(episodes):\n",
    "        ## Initialize variables\n",
    "        T = float(\"inf\")\n",
    "        tau = 0\n",
    "        t = 0\n",
    "        rewards = []\n",
    "       \n",
    "        ## Get the random initial state\n",
    "        current_state = start_episode(n_states)   \n",
    "        state = [current_state]\n",
    "        ## Initial action\n",
    "        action, s_prime, reward, terminal = take_action(current_state, policy)\n",
    "        state.append(s_prime)\n",
    "        \n",
    "        while(not (tau == T - 1)):\n",
    "            if(t < T):\n",
    "                ## Append the reward to the list\n",
    "                rewards.append(reward)             \n",
    "                if(terminal): \n",
    "                    ## update T if at terminal state\n",
    "                    T = t + 1\n",
    "                else: \n",
    "                    ## Get the next action state and rewards\n",
    "                    action_prime, s_prime_prime, reward_prime, terminal_prime = take_action(current_state, policy)\n",
    "                    state.append(s_prime_prime)\n",
    "                      \n",
    "            ## Update tau\n",
    "            tau = t - n + 1\n",
    "            \n",
    "            if(tau > 0):\n",
    "                G = 0.0\n",
    "                for i in range(tau + 1, min(tau + n, T)):\n",
    "                    exponent = i + tau - 1\n",
    "                    G = G + gamma**exponent * rewards[i]\n",
    "                if(tau + n < T): G += gamma**n * q[state[tau + n], action_index[action_prime]] \n",
    "                q[state[tau], action_index[action]] = q[state[tau], action_index[action]] + alpha * (G - q[state[tau], action_index[action]])    \n",
    "                \n",
    "            \n",
    "            ## Update variables for the next step\n",
    "            t += 1\n",
    "            current_state = s_prime\n",
    "            if(not terminal):\n",
    "                action = action_prime\n",
    "                s_prime = s_prime_prime\n",
    "                reward = reward_prime\n",
    "                terminal = terminal_prime\n",
    "    return(q)              \n",
    "            \n",
    "Q = SARSA_n(initial_policy, 1000, 4)\n",
    "print_Q(Q)"
   ]
  },
  {
   "cell_type": "markdown",
   "metadata": {},
   "source": [
    "Verify that the results you have computed appear correct using the aforementioned criteria. \n",
    "\n",
    "THe actions seems ok 0 on the taboo and goal nodes\n",
    "\n",
    "Finally, create a function to use the GPI algorithm with N-step SARSA in the cell below. You are welcome to start with the `SARSA_n_GPI` function from the TD/Q-learning notebook. \n",
    "\n",
    "Execute your function using 4 step SARSA for 5 cycles of 500 episodes, with $\\alpha = 0.2$, $\\epsilon = 0.1$, and $\\gamma = 0.9$."
   ]
  },
  {
   "cell_type": "code",
   "execution_count": 421,
   "metadata": {},
   "outputs": [
    {
     "data": {
      "text/plain": [
       "{0: {'u': 0.1, 'd': 0.7, 'l': 0.1, 'r': 0.1},\n",
       " 1: {'u': 0.1, 'd': 0.1, 'l': 0.1, 'r': 0.7},\n",
       " 2: {'u': 0.7, 'd': 0.1, 'l': 0.1, 'r': 0.1},\n",
       " 3: {'u': 0.1, 'd': 0.1, 'l': 0.7, 'r': 0.1},\n",
       " 4: {'u': 0.1, 'd': 0.1, 'l': 0.7, 'r': 0.1},\n",
       " 5: {'u': 0.1, 'd': 0.1, 'l': 0.1, 'r': 0.7},\n",
       " 6: {'u': 0.25, 'd': 0.25, 'l': 0.25, 'r': 0.25},\n",
       " 7: {'u': 0.25, 'd': 0.25, 'l': 0.25, 'r': 0.25},\n",
       " 8: {'u': 0.25, 'd': 0.25, 'l': 0.25, 'r': 0.25},\n",
       " 9: {'u': 0.1, 'd': 0.1, 'l': 0.7, 'r': 0.1},\n",
       " 10: {'u': 0.1, 'd': 0.1, 'l': 0.1, 'r': 0.7},\n",
       " 11: {'u': 0.1, 'd': 0.1, 'l': 0.1, 'r': 0.7},\n",
       " 12: {'u': 0.25, 'd': 0.25, 'l': 0.25, 'r': 0.25},\n",
       " 13: {'u': 0.1, 'd': 0.1, 'l': 0.7, 'r': 0.1},\n",
       " 14: {'u': 0.1, 'd': 0.7, 'l': 0.1, 'r': 0.1},\n",
       " 15: {'u': 0.1, 'd': 0.1, 'l': 0.7, 'r': 0.1},\n",
       " 16: {'u': 0.25, 'd': 0.25, 'l': 0.25, 'r': 0.25},\n",
       " 17: {'u': 0.25, 'd': 0.25, 'l': 0.25, 'r': 0.25},\n",
       " 18: {'u': 0.25, 'd': 0.25, 'l': 0.25, 'r': 0.25},\n",
       " 19: {'u': 0.7, 'd': 0.1, 'l': 0.1, 'r': 0.1},\n",
       " 20: {'u': 0.7, 'd': 0.1, 'l': 0.1, 'r': 0.1},\n",
       " 21: {'u': 0.1, 'd': 0.1, 'l': 0.1, 'r': 0.7},\n",
       " 22: {'u': 0.1, 'd': 0.1, 'l': 0.1, 'r': 0.7},\n",
       " 23: {'u': 0.1, 'd': 0.1, 'l': 0.7, 'r': 0.1},\n",
       " 24: {'u': 0.7, 'd': 0.1, 'l': 0.1, 'r': 0.1}}"
      ]
     },
     "execution_count": 421,
     "metadata": {},
     "output_type": "execute_result"
    }
   ],
   "source": [
    "def SARSA_n_GPI(policy, n, cycles, episodes, goal, alpha = 0.2, gamma = 0.9, epsilon = 0.1):\n",
    "    ## iterate over GPI cycles\n",
    "    current_policy = copy.deepcopy(policy)\n",
    "    for _ in range(cycles):\n",
    "        ## Evaluate policy with SARSA\n",
    "        Q = SARSA_n(policy, episodes, n, alpha = alpha, gamma = gamma, epsilon = epsilon)\n",
    "        \n",
    "        for s in list(current_policy.keys()): # iterate over all states\n",
    "            ## Find the index action with the largest Q values \n",
    "            ## May be more than one. \n",
    "            max_index = np.where(Q[s,:] == max(Q[s,:]))[0]\n",
    "            \n",
    "            ## Probabilities of transition\n",
    "            ## Need to allow for further exploration so don't let any \n",
    "            ## transition probability be 0.\n",
    "            ## Some gymnastics are required to ensure that the probabilities \n",
    "            ## over the transistions actual add to exactly 1.0\n",
    "            actions_count = len(current_policy[s])\n",
    "            max_len = len(max_index)\n",
    "            prob_for_policy = 1.0/float(max_len)\n",
    "            prob_for_policy -= epsilon * (float(actions_count) - float(max_len))\n",
    "            if(actions_count > max_len):\n",
    "                remainder = epsilon\n",
    "            else:\n",
    "                remainder = 0.25\n",
    "                                                 \n",
    "            for i, key in enumerate(current_policy[s]): ## Update policy\n",
    "                if(i in max_index): current_policy[s][key] = prob_for_policy\n",
    "                else: current_policy[s][key] = remainder   \n",
    "            \n",
    "    return(current_policy)           \n",
    " \n",
    "\n",
    "SARSA_N_Policy = SARSA_n_GPI(initial_policy, n = 4, cycles = 5, episodes = 1000, goal = 0, alpha = 0.2, epsilon = 0.1)\n",
    "SARSA_N_Policy"
   ]
  },
  {
   "cell_type": "markdown",
   "metadata": {},
   "source": [
    "Examine your results. Verify that the most probable paths to the goal from states 2 and 22 are the shortest possible.  "
   ]
  },
  {
   "cell_type": "markdown",
   "metadata": {},
   "source": [
    "there is an issue with the algo for example from state 2 you can go to step 7, a forbidden state"
   ]
  },
  {
   "cell_type": "code",
   "execution_count": null,
   "metadata": {},
   "outputs": [],
   "source": []
  }
 ],
 "metadata": {
  "kernelspec": {
   "display_name": "Python 3",
   "language": "python",
   "name": "python3"
  },
  "language_info": {
   "codemirror_mode": {
    "name": "ipython",
    "version": 3
   },
   "file_extension": ".py",
   "mimetype": "text/x-python",
   "name": "python",
   "nbconvert_exporter": "python",
   "pygments_lexer": "ipython3",
   "version": "3.7.3"
  }
 },
 "nbformat": 4,
 "nbformat_minor": 2
}
